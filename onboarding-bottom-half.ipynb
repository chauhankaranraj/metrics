{
 "cells": [
  {
   "cell_type": "code",
   "execution_count": null,
   "id": "d7a1d121-5ae4-43a3-a7c1-14223e6484e0",
   "metadata": {},
   "outputs": [],
   "source": [
    "from IPython.display import display, Markdown\n",
    "from dotenv import find_dotenv, load_dotenv\n",
    "\n",
    "import pandas as pd\n",
    "\n",
    "from matplotlib import pyplot as plt\n",
    "import seaborn as sns\n",
    "\n",
    "# load env vars\n",
    "load_dotenv(find_dotenv())\n",
    "\n",
    "# NOTE: GitHub PAT needs to exist as env var before importing the srcopmetrics\n",
    "# this is a known bug of this library\n",
    "from srcopsmetrics.entities.issue import Issue  # noqa: E402\n",
    "from srcopsmetrics.entities.pull_request import PullRequest  # noqa: E402"
   ]
  },
  {
   "cell_type": "code",
   "execution_count": null,
   "id": "b75177ba-3157-4f6b-9b9e-32a8543d7efe",
   "metadata": {},
   "outputs": [],
   "source": [
    "# default pretty graph settings\n",
    "sns.set()"
   ]
  },
  {
   "cell_type": "code",
   "execution_count": null,
   "id": "78644fe4-485f-4a0e-965b-6abdcd280464",
   "metadata": {},
   "outputs": [],
   "source": [
    "# load issue data using an entity, put it into df\n",
    "issue_entity = Issue(\"operate-first/support\")\n",
    "issues_df = issue_entity.load_previous_knowledge(is_local=True)\n",
    "issues_df = issues_df.reset_index()\n",
    "issues_df.head()"
   ]
  },
  {
   "cell_type": "code",
   "execution_count": null,
   "id": "ae02b533-c765-4b49-ad7e-9e1e4e118e5e",
   "metadata": {},
   "outputs": [],
   "source": [
    "# get issues having the onboarding labels\n",
    "onboard_labels = {'onboarding', 'kind/onboarding'}\n",
    "onboard_filter = issues_df[\"labels\"].apply(lambda x: len(onboard_labels.intersection(x.keys())) != 0)\n",
    "onboard_issues_df = issues_df.loc[onboard_filter]\n",
    "onboard_issues_df.head()"
   ]
  },
  {
   "cell_type": "code",
   "execution_count": null,
   "id": "920cdc04-0214-48d6-a495-0ed212103c97",
   "metadata": {},
   "outputs": [],
   "source": [
    "# time to close\n",
    "onboard_issues_df['time_to_close'] = onboard_issues_df['closed_at'] - onboard_issues_df['created_at']\n",
    "\n",
    "# summary stats\n",
    "onboard_issues_df['time_to_close'].describe()"
   ]
  },
  {
   "cell_type": "code",
   "execution_count": null,
   "id": "530bec05-74eb-4a49-9a62-b19a0b608603",
   "metadata": {},
   "outputs": [],
   "source": [
    "# histogram in terms of number of hours\n",
    "fig, ax = plt.subplots(figsize=(20, 8))\n",
    "sns.histplot(\n",
    "    onboard_issues_df['time_to_close'].dt.total_seconds() / 3600,\n",
    "    ax=ax,\n",
    "    bins=50,\n",
    "    stat=\"probability\",\n",
    ")\n",
    "plt.ylabel(\"Proportion of Issues\")\n",
    "plt.xlabel(\"Time to Close Issue (hours)\")\n",
    "plt.title(\"Distribution of time taken to close issue\")\n",
    "plt.show()"
   ]
  },
  {
   "cell_type": "code",
   "execution_count": null,
   "id": "a1923e5a-9ff8-49c9-aea4-910e15b41770",
   "metadata": {},
   "outputs": [],
   "source": [
    "# closing time greater than 6 months\n",
    "onboard_issues_df[onboard_issues_df['time_to_close'].dt.total_seconds() > 6 * 30 * 24 * 60 * 60].head()"
   ]
  },
  {
   "cell_type": "code",
   "execution_count": null,
   "id": "0249633d-3854-4c0a-894e-f90ed7735837",
   "metadata": {},
   "outputs": [],
   "source": [
    "# calculate running mean of time to close\n",
    "mttr_till_now = onboard_issues_df.sort_values(by='created_at')['time_to_close'].dt.total_seconds().expanding().mean()\n",
    "mttr_till_now = mttr_till_now.rename('mttr_till_now')\n",
    "mttr_till_now_days = mttr_till_now / (24 * 60 * 60)\n",
    "\n",
    "# merge with rest of df\n",
    "onboard_issues_df = onboard_issues_df.merge(\n",
    "    mttr_till_now_days,\n",
    "    left_index=True,\n",
    "    right_index=True,\n",
    ")\n",
    "onboard_issues_df.head()"
   ]
  },
  {
   "cell_type": "code",
   "execution_count": null,
   "id": "05415860-a90d-4001-8e61-8bd8a93a9f95",
   "metadata": {},
   "outputs": [],
   "source": [
    "# what does the mean time  to close till now look like, over time\n",
    "fig, ax = plt.subplots(figsize=(20, 8))\n",
    "sns.lineplot(onboard_issues_df['created_at'], onboard_issues_df['mttr_till_now'])\n",
    "plt.ylabel(\"Mean Time to Resolve (agg until now)\")\n",
    "plt.xlabel(\"Date\")\n",
    "plt.title(\"Distribution of overall MTTR over time\")\n",
    "plt.show()"
   ]
  },
  {
   "cell_type": "code",
   "execution_count": null,
   "id": "81b0b870-4101-4847-bf30-b27da75511e7",
   "metadata": {},
   "outputs": [],
   "source": [
    "# what if we only consider the MTTR in the last sprint (~14 days)\n",
    "# mttr_sprintwise = onboard_issues_df.sort_values(by='created_at')['time_to_close'].dt.total_seconds().expanding().mean()\n",
    "ttr = onboard_issues_df[[\"created_at\", \"time_to_close\"]].set_index(\"created_at\")\n",
    "\n",
    "# get timedelta as seconds and then days\n",
    "ttr[\"time_to_close\"] = ttr[\"time_to_close\"].dt.total_seconds()\n",
    "ttr /= (24 * 3600)\n",
    "\n",
    "ttr.resample(\"2W\").mean()\n",
    "\n",
    "# ttr.plot()\n",
    "\n",
    "\n",
    "# ttr = ttr / (3600\n",
    "# ttr.resample(\"W\").mean().plot()\n",
    "# onboard_issues_df.head()#set_index(\"created_at\").resample(\"W\").mean()"
   ]
  },
  {
   "cell_type": "code",
   "execution_count": null,
   "id": "57922dcd-0904-490a-a520-59ba4ff1283d",
   "metadata": {},
   "outputs": [],
   "source": [
    "onboard_issues_df[(onboard_issues_df[\"created_at\"] > \"2022-04-17\") & (onboard_issues_df[\"created_at\"] < \"2022-04-17\")].mean()"
   ]
  },
  {
   "cell_type": "code",
   "execution_count": null,
   "id": "d1c35538-6d6f-4996-917c-bb80a30771b2",
   "metadata": {},
   "outputs": [],
   "source": []
  },
  {
   "cell_type": "code",
   "execution_count": null,
   "id": "0a946da4-d7ed-4e0e-9d2b-0ecc83b0d3dc",
   "metadata": {},
   "outputs": [],
   "source": []
  },
  {
   "cell_type": "code",
   "execution_count": null,
   "id": "86a54c13-1c85-4a9a-abc6-8015dc60e35c",
   "metadata": {},
   "outputs": [],
   "source": []
  }
 ],
 "metadata": {
  "kernelspec": {
   "display_name": "Python 3 (ipykernel)",
   "language": "python",
   "name": "python3"
  },
  "language_info": {
   "codemirror_mode": {
    "name": "ipython",
    "version": 3
   },
   "file_extension": ".py",
   "mimetype": "text/x-python",
   "name": "python",
   "nbconvert_exporter": "python",
   "pygments_lexer": "ipython3",
   "version": "3.8.11"
  }
 },
 "nbformat": 4,
 "nbformat_minor": 5
}
