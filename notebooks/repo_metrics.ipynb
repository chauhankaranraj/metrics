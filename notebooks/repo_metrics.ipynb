{
 "cells": [
  {
   "cell_type": "markdown",
   "id": "50dcee0c-1ec3-4f00-9fe0-f34759445efe",
   "metadata": {},
   "source": [
    "# GitHub Repository Metric Analysis\n",
    "\n",
    "In this notebook, we will analyze the GitHub data collected for the repositories mentioned in [sigs.yaml](https://github.com/open-services-group/community/blob/main/sigs.yaml) and derive some basic metrics such as number of issues/PR open, number of issues/PR closed, mean time to close PRs/issues etc.\n",
    "\n",
    "This notebook will serve as a template notebook to analyze different GitHub repositories so that it can be easily executed in automation as part of our metrics processing pipeline. The notebook can be executed in parallel for different repos by passing as an argument the GitHub repository for which we would like to analyze and calculate metrics.\n",
    "\n",
    "(Related issues: [Issue 1](https://github.com/open-services-group/metrics/issues/19))"
   ]
  },
  {
   "cell_type": "code",
   "execution_count": 1,
   "id": "d2c5a94e-ee0e-4be8-b4a6-4756a48abc27",
   "metadata": {},
   "outputs": [
    {
     "data": {
      "text/plain": [
       "True"
      ]
     },
     "execution_count": 1,
     "metadata": {},
     "output_type": "execute_result"
    }
   ],
   "source": [
    "import os\n",
    "import datetime as dt\n",
    "import numpy as np\n",
    "from dotenv import find_dotenv, load_dotenv\n",
    "from matplotlib import pyplot as plt\n",
    "import warnings\n",
    "\n",
    "warnings.filterwarnings(\"ignore\")\n",
    "load_dotenv(find_dotenv())"
   ]
  },
  {
   "cell_type": "code",
   "execution_count": 2,
   "id": "10840dbf-4591-4b5b-bab6-b517f7eb3ffd",
   "metadata": {},
   "outputs": [],
   "source": [
    "## Create a .env file on your local with the correct configs\n",
    "repo_slug = os.getenv(\"REPO_SLUG\")\n",
    "GITHUB_ACCESS_TOKEN = os.getenv(\"GITHUB_ACCESS_TOKEN\")"
   ]
  },
  {
   "cell_type": "code",
   "execution_count": 3,
   "id": "11d4c8ee-b5bb-4917-9721-2f3eaa5983b4",
   "metadata": {},
   "outputs": [
    {
     "data": {
      "text/plain": [
       "'os-climate/aicoe-osc-demo'"
      ]
     },
     "execution_count": 3,
     "metadata": {},
     "output_type": "execute_result"
    }
   ],
   "source": [
    "repo_slug"
   ]
  },
  {
   "cell_type": "code",
   "execution_count": 4,
   "id": "3621064e-c067-4cb8-ac6a-f998275cf78f",
   "metadata": {},
   "outputs": [],
   "source": [
    "# Note: The GitHub access token needs to be exported before importing the srcopmetrics package (current bug)\n",
    "from srcopsmetrics.entities.issue import Issue  # noqa: E402\n",
    "from srcopsmetrics.entities.pull_request import PullRequest  # noqa: E402"
   ]
  },
  {
   "cell_type": "code",
   "execution_count": 5,
   "id": "c0050913-d122-4020-a1ce-2ef83a56fdee",
   "metadata": {},
   "outputs": [
    {
     "name": "stdout",
     "output_type": "stream",
     "text": [
      "INFO:srcopsmetrics.github_knowledge:Overall repositories found: 1\n",
      "INFO:srcopsmetrics.bot_knowledge:######################## Analysing os-climate/aicoe-osc-demo ########################\n",
      "\n",
      "INFO:srcopsmetrics.bot_knowledge:########################\n",
      "INFO:srcopsmetrics.bot_knowledge:Detected entities:\n",
      "CodeFrequency # Commit # DependencyUpdate # Fork # Issue # IssueEvent # KebechetUpdateManager # License # PullRequest # PullRequestDiscussion # ReadMe # Release # Stargazer # TrafficClones # TrafficPaths # TrafficPaths # TrafficReferrers # TrafficClones # TrafficViews\n",
      "INFO:srcopsmetrics.bot_knowledge:########################\n",
      "INFO:srcopsmetrics.bot_knowledge:Issue inspection\n",
      "INFO:srcopsmetrics.entities.tools.storage:Loading knowledge locally\n",
      "INFO:srcopsmetrics.entities.tools.storage:Data from file %s loaded\n",
      "INFO:srcopsmetrics.entities.interface:Found previous Issue knowledge for os-climate/aicoe-osc-demo with 77 records\n",
      "INFO:srcopsmetrics.iterator:-------------Issue Analysis-------------\n",
      "INFO:srcopsmetrics.entities.interface:No new knowledge found for update\n",
      "0it [00:00, ?it/s]\n",
      "INFO:srcopsmetrics.iterator:Nothing to store, no update operation needed\n",
      "INFO:srcopsmetrics.bot_knowledge:\n",
      "\n",
      "INFO:srcopsmetrics.bot_knowledge:PullRequest inspection\n",
      "INFO:srcopsmetrics.entities.tools.storage:Loading knowledge locally\n",
      "INFO:srcopsmetrics.entities.tools.storage:Data from file %s loaded\n",
      "INFO:srcopsmetrics.entities.interface:Found previous PullRequest knowledge for os-climate/aicoe-osc-demo with 55 records\n",
      "INFO:srcopsmetrics.iterator:-------------PullRequest Analysis-------------\n",
      "INFO:srcopsmetrics.entities.pull_request:Extracting PR #130                     \n",
      "INFO:srcopsmetrics.entities.pull_request:Extracting PR #129                     \n",
      "INFO:srcopsmetrics.entities.pull_request:Extracting PR #126                     \n",
      "INFO:srcopsmetrics.entities.pull_request:Extracting PR #124                     \n",
      "INFO:srcopsmetrics.entities.pull_request:Extracting PR #123                     \n",
      "INFO:srcopsmetrics.entities.pull_request:Extracting PR #119                     \n",
      "INFO:srcopsmetrics.entities.pull_request:Extracting PR #117                     \n",
      "INFO:srcopsmetrics.entities.pull_request:Extracting PR #116                     \n",
      "INFO:srcopsmetrics.entities.pull_request:Extracting PR #114                     \n",
      "INFO:srcopsmetrics.entities.pull_request:Extracting PR #112                     \n",
      "INFO:srcopsmetrics.entities.pull_request:Extracting PR #108                     \n",
      "INFO:srcopsmetrics.entities.pull_request:Extracting PR #107                     \n",
      "INFO:srcopsmetrics.entities.pull_request:Extracting PR #104                     \n",
      "INFO:srcopsmetrics.entities.pull_request:Extracting PR #103                     \n",
      "INFO:srcopsmetrics.entities.pull_request:Extracting PR #101                     \n",
      "INFO:srcopsmetrics.entities.pull_request:Extracting PR #98                      \n",
      "INFO:srcopsmetrics.entities.pull_request:Extracting PR #89                      \n",
      "INFO:srcopsmetrics.entities.pull_request:Extracting PR #86                      \n",
      "INFO:srcopsmetrics.entities.pull_request:Extracting PR #85                      \n",
      "INFO:srcopsmetrics.entities.pull_request:Extracting PR #83                      \n",
      "INFO:srcopsmetrics.entities.pull_request:Extracting PR #82                      \n",
      "INFO:srcopsmetrics.entities.pull_request:Extracting PR #81                      \n",
      "INFO:srcopsmetrics.entities.pull_request:Extracting PR #77                      \n",
      "INFO:srcopsmetrics.entities.pull_request:Extracting PR #76                      \n",
      "INFO:srcopsmetrics.entities.pull_request:Extracting PR #75                      \n",
      "INFO:srcopsmetrics.entities.pull_request:Extracting PR #74                      \n",
      "INFO:srcopsmetrics.entities.pull_request:Extracting PR #73                      \n",
      "INFO:srcopsmetrics.entities.pull_request:Extracting PR #71                      \n",
      "INFO:srcopsmetrics.entities.pull_request:Extracting PR #70                      \n",
      "INFO:srcopsmetrics.entities.pull_request:Extracting PR #67                      \n",
      "INFO:srcopsmetrics.entities.pull_request:Extracting PR #66                      \n",
      "INFO:srcopsmetrics.entities.pull_request:Extracting PR #65                      \n",
      "INFO:srcopsmetrics.entities.pull_request:Extracting PR #64                      \n",
      "INFO:srcopsmetrics.entities.pull_request:Extracting PR #63                      \n",
      "INFO:srcopsmetrics.entities.pull_request:Extracting PR #62                      \n",
      "INFO:srcopsmetrics.entities.pull_request:Extracting PR #55                      \n",
      "INFO:srcopsmetrics.entities.pull_request:Extracting PR #53                      \n",
      "INFO:srcopsmetrics.entities.pull_request:Extracting PR #50                      \n",
      "INFO:srcopsmetrics.entities.pull_request:Extracting PR #47                      \n",
      "INFO:srcopsmetrics.entities.pull_request:Extracting PR #46                      \n",
      "INFO:srcopsmetrics.entities.pull_request:Extracting PR #42                      \n",
      "INFO:srcopsmetrics.entities.pull_request:Extracting PR #41                      \n",
      "INFO:srcopsmetrics.entities.pull_request:Extracting PR #37                      \n",
      "INFO:srcopsmetrics.entities.pull_request:Extracting PR #36                      \n",
      "INFO:srcopsmetrics.entities.pull_request:Extracting PR #35                      \n",
      "INFO:srcopsmetrics.entities.pull_request:Extracting PR #34                      \n",
      "INFO:srcopsmetrics.entities.pull_request:Extracting PR #33                      \n",
      "INFO:srcopsmetrics.entities.pull_request:Extracting PR #31                      \n",
      "INFO:srcopsmetrics.entities.pull_request:Extracting PR #30                      \n",
      "INFO:srcopsmetrics.entities.pull_request:Extracting PR #27                      \n",
      "INFO:srcopsmetrics.entities.pull_request:Extracting PR #21                      \n",
      "INFO:srcopsmetrics.entities.pull_request:Extracting PR #16                      \n",
      "INFO:srcopsmetrics.entities.pull_request:Extracting PR #15                      \n",
      "INFO:srcopsmetrics.entities.pull_request:Extracting PR #2                       \n",
      "INFO:srcopsmetrics.entities.pull_request:Extracting PR #1                       \n",
      "100%|██████████████████████| 55/55 [00:04<00:00, 13.19it/s, RATE remaining=4912]\n",
      "INFO:srcopsmetrics.entities.interface:Nothing to store.\n",
      "INFO:srcopsmetrics.entities.interface:\n",
      "\n",
      "INFO:srcopsmetrics.bot_knowledge:\n",
      "\n"
     ]
    }
   ],
   "source": [
    "# Gather the data\n",
    "!python -m srcopsmetrics.cli -clr os-climate/aicoe-osc-demo -e Issue,PullRequest"
   ]
  },
  {
   "cell_type": "markdown",
   "id": "cc2542f1-be2a-46ee-8448-005eb826ba44",
   "metadata": {},
   "source": [
    "## Issue Metrics\n",
    "\n",
    "Now, lets fetch the issues for the repository and derive some metrics."
   ]
  },
  {
   "cell_type": "code",
   "execution_count": 6,
   "id": "9f01d6a8-5925-466a-a01f-ae47a334f975",
   "metadata": {},
   "outputs": [
    {
     "data": {
      "text/html": [
       "<div>\n",
       "<style scoped>\n",
       "    .dataframe tbody tr th:only-of-type {\n",
       "        vertical-align: middle;\n",
       "    }\n",
       "\n",
       "    .dataframe tbody tr th {\n",
       "        vertical-align: top;\n",
       "    }\n",
       "\n",
       "    .dataframe thead th {\n",
       "        text-align: right;\n",
       "    }\n",
       "</style>\n",
       "<table border=\"1\" class=\"dataframe\">\n",
       "  <thead>\n",
       "    <tr style=\"text-align: right;\">\n",
       "      <th></th>\n",
       "      <th>title</th>\n",
       "      <th>body</th>\n",
       "      <th>created_by</th>\n",
       "      <th>created_at</th>\n",
       "      <th>closed_by</th>\n",
       "      <th>closed_at</th>\n",
       "      <th>labels</th>\n",
       "      <th>interactions</th>\n",
       "    </tr>\n",
       "    <tr>\n",
       "      <th>id</th>\n",
       "      <th></th>\n",
       "      <th></th>\n",
       "      <th></th>\n",
       "      <th></th>\n",
       "      <th></th>\n",
       "      <th></th>\n",
       "      <th></th>\n",
       "      <th></th>\n",
       "    </tr>\n",
       "  </thead>\n",
       "  <tbody>\n",
       "    <tr>\n",
       "      <th>132</th>\n",
       "      <td>Rerun NLP demo on the new cluster</td>\n",
       "      <td>The new dev cluster with a bigger GPU is up ([...</td>\n",
       "      <td>Shreyanand</td>\n",
       "      <td>2022-02-24 16:12:24</td>\n",
       "      <td>None</td>\n",
       "      <td>NaT</td>\n",
       "      <td>{}</td>\n",
       "      <td>{}</td>\n",
       "    </tr>\n",
       "    <tr>\n",
       "      <th>131</th>\n",
       "      <td>Use physical-landing bucket for NLP demo</td>\n",
       "      <td>As an effort to decouple data owned by Trino, ...</td>\n",
       "      <td>Shreyanand</td>\n",
       "      <td>2022-02-24 15:57:35</td>\n",
       "      <td>None</td>\n",
       "      <td>NaT</td>\n",
       "      <td>{'enhancement': {'color': 'a2eeef', 'labeled_a...</td>\n",
       "      <td>{}</td>\n",
       "    </tr>\n",
       "    <tr>\n",
       "      <th>128</th>\n",
       "      <td>Prepare GPU image for training teacher network...</td>\n",
       "      <td>**Is your feature request related to a problem...</td>\n",
       "      <td>pacospace</td>\n",
       "      <td>2022-02-10 16:16:08</td>\n",
       "      <td>erikerlandson</td>\n",
       "      <td>2022-02-17 16:09:37</td>\n",
       "      <td>{'enhancement': {'color': 'a2eeef', 'labeled_a...</td>\n",
       "      <td>{'pacospace': 8}</td>\n",
       "    </tr>\n",
       "    <tr>\n",
       "      <th>127</th>\n",
       "      <td>Value Error related to S3 in demo2 notebook</td>\n",
       "      <td>Value Error related to S3 at Import in when ru...</td>\n",
       "      <td>andraNew</td>\n",
       "      <td>2022-01-07 16:17:07</td>\n",
       "      <td>andraNew</td>\n",
       "      <td>2022-01-13 11:27:54</td>\n",
       "      <td>{'bug': {'color': 'd73a4a', 'labeled_at': 1641...</td>\n",
       "      <td>{'andraNew': 123, 'erikerlandson': 90, 'chauha...</td>\n",
       "    </tr>\n",
       "    <tr>\n",
       "      <th>125</th>\n",
       "      <td>Create Jupyterbook</td>\n",
       "      <td>Add _toc.yaml and _config.yml for the repo and...</td>\n",
       "      <td>oindrillac</td>\n",
       "      <td>2021-12-17 13:09:41</td>\n",
       "      <td>oindrillac</td>\n",
       "      <td>2021-12-20 13:23:13</td>\n",
       "      <td>{}</td>\n",
       "      <td>{}</td>\n",
       "    </tr>\n",
       "  </tbody>\n",
       "</table>\n",
       "</div>"
      ],
      "text/plain": [
       "                                                 title  \\\n",
       "id                                                       \n",
       "132                  Rerun NLP demo on the new cluster   \n",
       "131           Use physical-landing bucket for NLP demo   \n",
       "128  Prepare GPU image for training teacher network...   \n",
       "127        Value Error related to S3 in demo2 notebook   \n",
       "125                                 Create Jupyterbook   \n",
       "\n",
       "                                                  body  created_by  \\\n",
       "id                                                                   \n",
       "132  The new dev cluster with a bigger GPU is up ([...  Shreyanand   \n",
       "131  As an effort to decouple data owned by Trino, ...  Shreyanand   \n",
       "128  **Is your feature request related to a problem...   pacospace   \n",
       "127  Value Error related to S3 at Import in when ru...    andraNew   \n",
       "125  Add _toc.yaml and _config.yml for the repo and...  oindrillac   \n",
       "\n",
       "             created_at      closed_by           closed_at  \\\n",
       "id                                                           \n",
       "132 2022-02-24 16:12:24           None                 NaT   \n",
       "131 2022-02-24 15:57:35           None                 NaT   \n",
       "128 2022-02-10 16:16:08  erikerlandson 2022-02-17 16:09:37   \n",
       "127 2022-01-07 16:17:07       andraNew 2022-01-13 11:27:54   \n",
       "125 2021-12-17 13:09:41     oindrillac 2021-12-20 13:23:13   \n",
       "\n",
       "                                                labels  \\\n",
       "id                                                       \n",
       "132                                                 {}   \n",
       "131  {'enhancement': {'color': 'a2eeef', 'labeled_a...   \n",
       "128  {'enhancement': {'color': 'a2eeef', 'labeled_a...   \n",
       "127  {'bug': {'color': 'd73a4a', 'labeled_at': 1641...   \n",
       "125                                                 {}   \n",
       "\n",
       "                                          interactions  \n",
       "id                                                      \n",
       "132                                                 {}  \n",
       "131                                                 {}  \n",
       "128                                   {'pacospace': 8}  \n",
       "127  {'andraNew': 123, 'erikerlandson': 90, 'chauha...  \n",
       "125                                                 {}  "
      ]
     },
     "execution_count": 6,
     "metadata": {},
     "output_type": "execute_result"
    }
   ],
   "source": [
    "issue = Issue(repo_slug)\n",
    "issue_df = issue.load_previous_knowledge(is_local=True)\n",
    "issue_df.head()"
   ]
  },
  {
   "cell_type": "code",
   "execution_count": 7,
   "id": "ecc6718e-9b65-4246-a89d-5ea1caf52f47",
   "metadata": {},
   "outputs": [],
   "source": [
    "issues_df = issue_df.reset_index()"
   ]
  },
  {
   "cell_type": "code",
   "execution_count": 8,
   "id": "74f8831a-fc80-4fb7-b20d-d3ef158c308a",
   "metadata": {},
   "outputs": [
    {
     "data": {
      "text/html": [
       "<div>\n",
       "<style scoped>\n",
       "    .dataframe tbody tr th:only-of-type {\n",
       "        vertical-align: middle;\n",
       "    }\n",
       "\n",
       "    .dataframe tbody tr th {\n",
       "        vertical-align: top;\n",
       "    }\n",
       "\n",
       "    .dataframe thead th {\n",
       "        text-align: right;\n",
       "    }\n",
       "</style>\n",
       "<table border=\"1\" class=\"dataframe\">\n",
       "  <thead>\n",
       "    <tr style=\"text-align: right;\">\n",
       "      <th></th>\n",
       "      <th>id</th>\n",
       "      <th>title</th>\n",
       "      <th>body</th>\n",
       "      <th>created_by</th>\n",
       "      <th>created_at</th>\n",
       "      <th>closed_by</th>\n",
       "      <th>closed_at</th>\n",
       "      <th>labels</th>\n",
       "      <th>interactions</th>\n",
       "    </tr>\n",
       "  </thead>\n",
       "  <tbody>\n",
       "    <tr>\n",
       "      <th>0</th>\n",
       "      <td>132</td>\n",
       "      <td>Rerun NLP demo on the new cluster</td>\n",
       "      <td>The new dev cluster with a bigger GPU is up ([...</td>\n",
       "      <td>Shreyanand</td>\n",
       "      <td>2022-02-24 16:12:24</td>\n",
       "      <td>None</td>\n",
       "      <td>NaT</td>\n",
       "      <td>{}</td>\n",
       "      <td>{}</td>\n",
       "    </tr>\n",
       "    <tr>\n",
       "      <th>1</th>\n",
       "      <td>131</td>\n",
       "      <td>Use physical-landing bucket for NLP demo</td>\n",
       "      <td>As an effort to decouple data owned by Trino, ...</td>\n",
       "      <td>Shreyanand</td>\n",
       "      <td>2022-02-24 15:57:35</td>\n",
       "      <td>None</td>\n",
       "      <td>NaT</td>\n",
       "      <td>{'enhancement': {'color': 'a2eeef', 'labeled_a...</td>\n",
       "      <td>{}</td>\n",
       "    </tr>\n",
       "    <tr>\n",
       "      <th>2</th>\n",
       "      <td>128</td>\n",
       "      <td>Prepare GPU image for training teacher network...</td>\n",
       "      <td>**Is your feature request related to a problem...</td>\n",
       "      <td>pacospace</td>\n",
       "      <td>2022-02-10 16:16:08</td>\n",
       "      <td>erikerlandson</td>\n",
       "      <td>2022-02-17 16:09:37</td>\n",
       "      <td>{'enhancement': {'color': 'a2eeef', 'labeled_a...</td>\n",
       "      <td>{'pacospace': 8}</td>\n",
       "    </tr>\n",
       "    <tr>\n",
       "      <th>3</th>\n",
       "      <td>127</td>\n",
       "      <td>Value Error related to S3 in demo2 notebook</td>\n",
       "      <td>Value Error related to S3 at Import in when ru...</td>\n",
       "      <td>andraNew</td>\n",
       "      <td>2022-01-07 16:17:07</td>\n",
       "      <td>andraNew</td>\n",
       "      <td>2022-01-13 11:27:54</td>\n",
       "      <td>{'bug': {'color': 'd73a4a', 'labeled_at': 1641...</td>\n",
       "      <td>{'andraNew': 123, 'erikerlandson': 90, 'chauha...</td>\n",
       "    </tr>\n",
       "    <tr>\n",
       "      <th>4</th>\n",
       "      <td>125</td>\n",
       "      <td>Create Jupyterbook</td>\n",
       "      <td>Add _toc.yaml and _config.yml for the repo and...</td>\n",
       "      <td>oindrillac</td>\n",
       "      <td>2021-12-17 13:09:41</td>\n",
       "      <td>oindrillac</td>\n",
       "      <td>2021-12-20 13:23:13</td>\n",
       "      <td>{}</td>\n",
       "      <td>{}</td>\n",
       "    </tr>\n",
       "  </tbody>\n",
       "</table>\n",
       "</div>"
      ],
      "text/plain": [
       "    id                                              title  \\\n",
       "0  132                  Rerun NLP demo on the new cluster   \n",
       "1  131           Use physical-landing bucket for NLP demo   \n",
       "2  128  Prepare GPU image for training teacher network...   \n",
       "3  127        Value Error related to S3 in demo2 notebook   \n",
       "4  125                                 Create Jupyterbook   \n",
       "\n",
       "                                                body  created_by  \\\n",
       "0  The new dev cluster with a bigger GPU is up ([...  Shreyanand   \n",
       "1  As an effort to decouple data owned by Trino, ...  Shreyanand   \n",
       "2  **Is your feature request related to a problem...   pacospace   \n",
       "3  Value Error related to S3 at Import in when ru...    andraNew   \n",
       "4  Add _toc.yaml and _config.yml for the repo and...  oindrillac   \n",
       "\n",
       "           created_at      closed_by           closed_at  \\\n",
       "0 2022-02-24 16:12:24           None                 NaT   \n",
       "1 2022-02-24 15:57:35           None                 NaT   \n",
       "2 2022-02-10 16:16:08  erikerlandson 2022-02-17 16:09:37   \n",
       "3 2022-01-07 16:17:07       andraNew 2022-01-13 11:27:54   \n",
       "4 2021-12-17 13:09:41     oindrillac 2021-12-20 13:23:13   \n",
       "\n",
       "                                              labels  \\\n",
       "0                                                 {}   \n",
       "1  {'enhancement': {'color': 'a2eeef', 'labeled_a...   \n",
       "2  {'enhancement': {'color': 'a2eeef', 'labeled_a...   \n",
       "3  {'bug': {'color': 'd73a4a', 'labeled_at': 1641...   \n",
       "4                                                 {}   \n",
       "\n",
       "                                        interactions  \n",
       "0                                                 {}  \n",
       "1                                                 {}  \n",
       "2                                   {'pacospace': 8}  \n",
       "3  {'andraNew': 123, 'erikerlandson': 90, 'chauha...  \n",
       "4                                                 {}  "
      ]
     },
     "execution_count": 8,
     "metadata": {},
     "output_type": "execute_result"
    }
   ],
   "source": [
    "issues_df.head()"
   ]
  },
  {
   "cell_type": "markdown",
   "id": "68ce9b6c-c43b-4bd1-a205-a759f1eab604",
   "metadata": {},
   "source": [
    "### Number of issues created over time"
   ]
  },
  {
   "cell_type": "code",
   "execution_count": 9,
   "id": "e753ad5f-9dab-4290-bb93-d585aea9763c",
   "metadata": {},
   "outputs": [],
   "source": [
    "# Let's find the number of issues created daily\n",
    "issues_created_daily = (\n",
    "    issues_df[\"created_at\"].groupby(issues_df.created_at.dt.to_period(\"D\")).agg(\"count\")\n",
    ")"
   ]
  },
  {
   "cell_type": "code",
   "execution_count": 10,
   "id": "01ed36a4-a970-4e9d-953a-49f31303342b",
   "metadata": {},
   "outputs": [
    {
     "data": {
      "text/plain": [
       "created_at\n",
       "2021-09-13    9\n",
       "2021-09-16    1\n",
       "2021-09-17    2\n",
       "2021-09-21    2\n",
       "2021-09-22    1\n",
       "Freq: D, Name: created_at, dtype: int64"
      ]
     },
     "execution_count": 10,
     "metadata": {},
     "output_type": "execute_result"
    }
   ],
   "source": [
    "issues_created_daily.head()"
   ]
  },
  {
   "cell_type": "code",
   "execution_count": 11,
   "id": "9995a252-1533-42c3-a402-3ff06da67ecb",
   "metadata": {},
   "outputs": [
    {
     "data": {
      "image/png": "[encoded data removed]",
      "text/plain": [
       "<Figure size 432x288 with 1 Axes>"
      ]
     },
     "metadata": {
      "needs_background": "light"
     },
     "output_type": "display_data"
    }
   ],
   "source": [
    "issues_created_daily.plot.bar()\n",
    "\n",
    "plt.xlabel(\"Days\")\n",
    "locs, labels = plt.xticks()\n",
    "N = 10\n",
    "plt.xticks(locs[::N], issues_created_daily.index[::N].strftime(\"%b %Y\"))\n",
    "plt.xticks(rotation=45)\n",
    "plt.ylabel(\"# Issues\")\n",
    "plt.title(\"# Daily Issues Created\")\n",
    "plt.show()"
   ]
  },
  {
   "cell_type": "markdown",
   "id": "a5810fce-3afc-4c36-b8ec-acb3cac1030c",
   "metadata": {},
   "source": [
    "### Number of open issues"
   ]
  },
  {
   "cell_type": "code",
   "execution_count": 12,
   "id": "b1344d6e-1f93-4124-b238-f4f6949358f4",
   "metadata": {},
   "outputs": [
    {
     "data": {
      "text/plain": [
       "19"
      ]
     },
     "execution_count": 12,
     "metadata": {},
     "output_type": "execute_result"
    }
   ],
   "source": [
    "num_open_issues = issues_df[\"closed_at\"].isna().sum()\n",
    "num_open_issues"
   ]
  },
  {
   "cell_type": "markdown",
   "id": "d002b54b-c3a3-4780-bec5-99bd2848e039",
   "metadata": {},
   "source": [
    "### Number of closed issues"
   ]
  },
  {
   "cell_type": "code",
   "execution_count": 13,
   "id": "8bc111db-5204-41fe-be85-30e01656f9f8",
   "metadata": {},
   "outputs": [
    {
     "data": {
      "text/plain": [
       "58"
      ]
     },
     "execution_count": 13,
     "metadata": {},
     "output_type": "execute_result"
    }
   ],
   "source": [
    "num_close_issues = issues_df[\"closed_at\"].notnull().sum()\n",
    "num_close_issues"
   ]
  },
  {
   "cell_type": "markdown",
   "id": "92385e23-ceb7-4bdf-8ca3-ee56d3693010",
   "metadata": {},
   "source": [
    "### Mean time to close issues"
   ]
  },
  {
   "cell_type": "code",
   "execution_count": 14,
   "id": "0f4fbb34-48bd-46c6-bd3e-a26fd7e6c33b",
   "metadata": {},
   "outputs": [
    {
     "data": {
      "text/html": [
       "<div>\n",
       "<style scoped>\n",
       "    .dataframe tbody tr th:only-of-type {\n",
       "        vertical-align: middle;\n",
       "    }\n",
       "\n",
       "    .dataframe tbody tr th {\n",
       "        vertical-align: top;\n",
       "    }\n",
       "\n",
       "    .dataframe thead th {\n",
       "        text-align: right;\n",
       "    }\n",
       "</style>\n",
       "<table border=\"1\" class=\"dataframe\">\n",
       "  <thead>\n",
       "    <tr style=\"text-align: right;\">\n",
       "      <th></th>\n",
       "      <th>id</th>\n",
       "      <th>title</th>\n",
       "      <th>body</th>\n",
       "      <th>created_by</th>\n",
       "      <th>created_at</th>\n",
       "      <th>closed_by</th>\n",
       "      <th>closed_at</th>\n",
       "      <th>labels</th>\n",
       "      <th>interactions</th>\n",
       "      <th>time_to_close</th>\n",
       "    </tr>\n",
       "  </thead>\n",
       "  <tbody>\n",
       "    <tr>\n",
       "      <th>0</th>\n",
       "      <td>132</td>\n",
       "      <td>Rerun NLP demo on the new cluster</td>\n",
       "      <td>The new dev cluster with a bigger GPU is up ([...</td>\n",
       "      <td>Shreyanand</td>\n",
       "      <td>2022-02-24 16:12:24</td>\n",
       "      <td>None</td>\n",
       "      <td>NaT</td>\n",
       "      <td>{}</td>\n",
       "      <td>{}</td>\n",
       "      <td>NaT</td>\n",
       "    </tr>\n",
       "    <tr>\n",
       "      <th>1</th>\n",
       "      <td>131</td>\n",
       "      <td>Use physical-landing bucket for NLP demo</td>\n",
       "      <td>As an effort to decouple data owned by Trino, ...</td>\n",
       "      <td>Shreyanand</td>\n",
       "      <td>2022-02-24 15:57:35</td>\n",
       "      <td>None</td>\n",
       "      <td>NaT</td>\n",
       "      <td>{'enhancement': {'color': 'a2eeef', 'labeled_a...</td>\n",
       "      <td>{}</td>\n",
       "      <td>NaT</td>\n",
       "    </tr>\n",
       "    <tr>\n",
       "      <th>2</th>\n",
       "      <td>128</td>\n",
       "      <td>Prepare GPU image for training teacher network...</td>\n",
       "      <td>**Is your feature request related to a problem...</td>\n",
       "      <td>pacospace</td>\n",
       "      <td>2022-02-10 16:16:08</td>\n",
       "      <td>erikerlandson</td>\n",
       "      <td>2022-02-17 16:09:37</td>\n",
       "      <td>{'enhancement': {'color': 'a2eeef', 'labeled_a...</td>\n",
       "      <td>{'pacospace': 8}</td>\n",
       "      <td>6 days 23:53:29</td>\n",
       "    </tr>\n",
       "    <tr>\n",
       "      <th>3</th>\n",
       "      <td>127</td>\n",
       "      <td>Value Error related to S3 in demo2 notebook</td>\n",
       "      <td>Value Error related to S3 at Import in when ru...</td>\n",
       "      <td>andraNew</td>\n",
       "      <td>2022-01-07 16:17:07</td>\n",
       "      <td>andraNew</td>\n",
       "      <td>2022-01-13 11:27:54</td>\n",
       "      <td>{'bug': {'color': 'd73a4a', 'labeled_at': 1641...</td>\n",
       "      <td>{'andraNew': 123, 'erikerlandson': 90, 'chauha...</td>\n",
       "      <td>5 days 19:10:47</td>\n",
       "    </tr>\n",
       "    <tr>\n",
       "      <th>4</th>\n",
       "      <td>125</td>\n",
       "      <td>Create Jupyterbook</td>\n",
       "      <td>Add _toc.yaml and _config.yml for the repo and...</td>\n",
       "      <td>oindrillac</td>\n",
       "      <td>2021-12-17 13:09:41</td>\n",
       "      <td>oindrillac</td>\n",
       "      <td>2021-12-20 13:23:13</td>\n",
       "      <td>{}</td>\n",
       "      <td>{}</td>\n",
       "      <td>3 days 00:13:32</td>\n",
       "    </tr>\n",
       "  </tbody>\n",
       "</table>\n",
       "</div>"
      ],
      "text/plain": [
       "    id                                              title  \\\n",
       "0  132                  Rerun NLP demo on the new cluster   \n",
       "1  131           Use physical-landing bucket for NLP demo   \n",
       "2  128  Prepare GPU image for training teacher network...   \n",
       "3  127        Value Error related to S3 in demo2 notebook   \n",
       "4  125                                 Create Jupyterbook   \n",
       "\n",
       "                                                body  created_by  \\\n",
       "0  The new dev cluster with a bigger GPU is up ([...  Shreyanand   \n",
       "1  As an effort to decouple data owned by Trino, ...  Shreyanand   \n",
       "2  **Is your feature request related to a problem...   pacospace   \n",
       "3  Value Error related to S3 at Import in when ru...    andraNew   \n",
       "4  Add _toc.yaml and _config.yml for the repo and...  oindrillac   \n",
       "\n",
       "           created_at      closed_by           closed_at  \\\n",
       "0 2022-02-24 16:12:24           None                 NaT   \n",
       "1 2022-02-24 15:57:35           None                 NaT   \n",
       "2 2022-02-10 16:16:08  erikerlandson 2022-02-17 16:09:37   \n",
       "3 2022-01-07 16:17:07       andraNew 2022-01-13 11:27:54   \n",
       "4 2021-12-17 13:09:41     oindrillac 2021-12-20 13:23:13   \n",
       "\n",
       "                                              labels  \\\n",
       "0                                                 {}   \n",
       "1  {'enhancement': {'color': 'a2eeef', 'labeled_a...   \n",
       "2  {'enhancement': {'color': 'a2eeef', 'labeled_a...   \n",
       "3  {'bug': {'color': 'd73a4a', 'labeled_at': 1641...   \n",
       "4                                                 {}   \n",
       "\n",
       "                                        interactions   time_to_close  \n",
       "0                                                 {}             NaT  \n",
       "1                                                 {}             NaT  \n",
       "2                                   {'pacospace': 8} 6 days 23:53:29  \n",
       "3  {'andraNew': 123, 'erikerlandson': 90, 'chauha... 5 days 19:10:47  \n",
       "4                                                 {} 3 days 00:13:32  "
      ]
     },
     "execution_count": 14,
     "metadata": {},
     "output_type": "execute_result"
    }
   ],
   "source": [
    "# Calculate the time taken to close an issue\n",
    "issues_df[\"time_to_close\"] = issues_df.closed_at - issues_df.created_at\n",
    "issues_df.head()"
   ]
  },
  {
   "cell_type": "markdown",
   "id": "6b213552-d35d-48e8-8cf1-a5a2f2211468",
   "metadata": {},
   "source": [
    "Now let's find out the median time taken to close issues grouped by month."
   ]
  },
  {
   "cell_type": "code",
   "execution_count": 15,
   "id": "153adda7-f42e-4c44-a07d-94a5aeaaedf8",
   "metadata": {},
   "outputs": [],
   "source": [
    "issues_closed_monthly = (\n",
    "    issues_df[\"time_to_close\"]\n",
    "    .groupby(issues_df.created_at.dt.to_period(\"M\"))\n",
    "    .agg(\"median\")\n",
    ")"
   ]
  },
  {
   "cell_type": "code",
   "execution_count": 16,
   "id": "4c66ca01-da64-4c68-bcff-8203af8e3f78",
   "metadata": {},
   "outputs": [
    {
     "data": {
      "text/plain": [
       "created_at\n",
       "2021-09    8 days 22:47:16\n",
       "2021-10   11 days 19:38:43\n",
       "2021-11    5 days 10:04:41\n",
       "2021-12                NaT\n",
       "2022-01    5 days 19:10:47\n",
       "Freq: M, Name: time_to_close, dtype: timedelta64[ns]"
      ]
     },
     "execution_count": 16,
     "metadata": {},
     "output_type": "execute_result"
    }
   ],
   "source": [
    "issues_closed_monthly.head()"
   ]
  },
  {
   "cell_type": "markdown",
   "id": "948a8dec-95d1-4d59-a29b-111efa4ad3f2",
   "metadata": {},
   "source": [
    "We can visualize the trend in median time to close issues by month. However, in order to best capture all the median values including the outliers we can normalize the data by taking the log of the values before plotting. We should also consider the level of granularity we would like to capture and visualize the median time in i.e. days vs hours vs minutes vs seconds.\n",
    "\n",
    "Let us first consider the different levels of granularity for the median time to close issues."
   ]
  },
  {
   "cell_type": "code",
   "execution_count": 17,
   "id": "29577657-c217-47de-bc39-191cd44e2921",
   "metadata": {},
   "outputs": [],
   "source": [
    "# days\n",
    "issues_closed_monthly_days = issues_closed_monthly.astype(\"timedelta64[D]\")\n",
    "# hours\n",
    "issues_closed_monthly_hours = issues_closed_monthly.astype(\"timedelta64[h]\")\n",
    "# minutes\n",
    "issues_closed_monthly_minutes = issues_closed_monthly.astype(\"timedelta64[m]\")\n",
    "# seconds\n",
    "issues_closed_monthly_seconds = issues_closed_monthly.astype(\"timedelta64[s]\")"
   ]
  },
  {
   "cell_type": "markdown",
   "id": "573f7822-6e25-4586-9716-14b96033f234",
   "metadata": {},
   "source": [
    "We will now consider the granularity level to be \"days\" and plot the median time to close issues grouped by months."
   ]
  },
  {
   "cell_type": "code",
   "execution_count": 18,
   "id": "fe4bdf60-4200-4980-9f1a-f3621ed5da6b",
   "metadata": {},
   "outputs": [
    {
     "data": {
      "image/png": "[encoded data removed]",
      "text/plain": [
       "<Figure size 432x288 with 1 Axes>"
      ]
     },
     "metadata": {
      "needs_background": "light"
     },
     "output_type": "display_data"
    }
   ],
   "source": [
    "issues_closed_monthly_days.plot()\n",
    "plt.xlabel(\"Month\")\n",
    "plt.ylabel(\"Median time to close (days)\")\n",
    "plt.title(\"Median Time to Close Issues (Monthly)\")\n",
    "plt.show()"
   ]
  },
  {
   "cell_type": "markdown",
   "id": "6f7ec752-c048-4bbf-b92f-f0ab2445520d",
   "metadata": {},
   "source": [
    "## PR Metrics\n",
    "\n",
    "Now, lets fetch the PRs for the repository and derive some metrics."
   ]
  },
  {
   "cell_type": "code",
   "execution_count": 19,
   "id": "4047933a-e7fa-4424-aa9a-98efc072202a",
   "metadata": {},
   "outputs": [
    {
     "data": {
      "text/html": [
       "<div>\n",
       "<style scoped>\n",
       "    .dataframe tbody tr th:only-of-type {\n",
       "        vertical-align: middle;\n",
       "    }\n",
       "\n",
       "    .dataframe tbody tr th {\n",
       "        vertical-align: top;\n",
       "    }\n",
       "\n",
       "    .dataframe thead th {\n",
       "        text-align: right;\n",
       "    }\n",
       "</style>\n",
       "<table border=\"1\" class=\"dataframe\">\n",
       "  <thead>\n",
       "    <tr style=\"text-align: right;\">\n",
       "      <th></th>\n",
       "      <th>title</th>\n",
       "      <th>body</th>\n",
       "      <th>size</th>\n",
       "      <th>created_by</th>\n",
       "      <th>created_at</th>\n",
       "      <th>closed_at</th>\n",
       "      <th>closed_by</th>\n",
       "      <th>merged_at</th>\n",
       "      <th>merged_by</th>\n",
       "      <th>commits_number</th>\n",
       "      <th>changed_files_number</th>\n",
       "      <th>interactions</th>\n",
       "      <th>reviews</th>\n",
       "      <th>labels</th>\n",
       "      <th>commits</th>\n",
       "      <th>changed_files</th>\n",
       "      <th>first_review_at</th>\n",
       "      <th>first_approve_at</th>\n",
       "    </tr>\n",
       "    <tr>\n",
       "      <th>id</th>\n",
       "      <th></th>\n",
       "      <th></th>\n",
       "      <th></th>\n",
       "      <th></th>\n",
       "      <th></th>\n",
       "      <th></th>\n",
       "      <th></th>\n",
       "      <th></th>\n",
       "      <th></th>\n",
       "      <th></th>\n",
       "      <th></th>\n",
       "      <th></th>\n",
       "      <th></th>\n",
       "      <th></th>\n",
       "      <th></th>\n",
       "      <th></th>\n",
       "      <th></th>\n",
       "      <th></th>\n",
       "    </tr>\n",
       "  </thead>\n",
       "  <tbody>\n",
       "    <tr>\n",
       "      <th>130</th>\n",
       "      <td>Fix gpu manifests builds</td>\n",
       "      <td>Signed-off-by: Francesco Murdaca &lt;fmurdaca@red...</td>\n",
       "      <td>XS</td>\n",
       "      <td>pacospace</td>\n",
       "      <td>2022-02-22 09:31:00</td>\n",
       "      <td>NaT</td>\n",
       "      <td>None</td>\n",
       "      <td>NaT</td>\n",
       "      <td>None</td>\n",
       "      <td>1</td>\n",
       "      <td>1</td>\n",
       "      <td>{}</td>\n",
       "      <td>{}</td>\n",
       "      <td>[]</td>\n",
       "      <td>[d87b0a45185451072c2fef554024a273ed8985a3]</td>\n",
       "      <td>[manifests/nm-gpu-training-manifests.yaml]</td>\n",
       "      <td>NaT</td>\n",
       "      <td>NaT</td>\n",
       "    </tr>\n",
       "    <tr>\n",
       "      <th>129</th>\n",
       "      <td>Add manifests for GPU image build</td>\n",
       "      <td>Signed-off-by: Francesco Murdaca &lt;fmurdaca@red...</td>\n",
       "      <td>XL</td>\n",
       "      <td>pacospace</td>\n",
       "      <td>2022-02-14 11:10:27</td>\n",
       "      <td>2022-02-17 16:09:37</td>\n",
       "      <td>erikerlandson</td>\n",
       "      <td>2022-02-17 16:09:37</td>\n",
       "      <td>erikerlandson</td>\n",
       "      <td>1</td>\n",
       "      <td>9</td>\n",
       "      <td>{'pacospace': 22}</td>\n",
       "      <td>{'881638114': {'author': 'erikerlandson', 'wor...</td>\n",
       "      <td>[]</td>\n",
       "      <td>[17709f8aac5533bbaa20c311a937c89384644b14]</td>\n",
       "      <td>[manifests/.sops.yaml, manifests/README.md, ma...</td>\n",
       "      <td>2022-02-14 13:36:05</td>\n",
       "      <td>2022-02-14 13:36:05</td>\n",
       "    </tr>\n",
       "    <tr>\n",
       "      <th>126</th>\n",
       "      <td>Updated documentation</td>\n",
       "      <td>closes #125 \\r\\ncloses #110 \\r\\n\\r\\nJupyterBoo...</td>\n",
       "      <td>M</td>\n",
       "      <td>oindrillac</td>\n",
       "      <td>2021-12-17 16:40:00</td>\n",
       "      <td>2021-12-20 13:23:14</td>\n",
       "      <td>oindrillac</td>\n",
       "      <td>2021-12-20 13:23:13</td>\n",
       "      <td>oindrillac</td>\n",
       "      <td>1</td>\n",
       "      <td>5</td>\n",
       "      <td>{'oindrillac': 13, 'chauhankaranraj': 18}</td>\n",
       "      <td>{'835457435': {'author': 'aakankshaduggal', 'w...</td>\n",
       "      <td>[]</td>\n",
       "      <td>[523e26606333956764986a296149ca56edf56b40]</td>\n",
       "      <td>[README.md, _config.yml, _toc.yml, notebooks/d...</td>\n",
       "      <td>2021-12-17 17:05:43</td>\n",
       "      <td>2021-12-17 21:18:59</td>\n",
       "    </tr>\n",
       "    <tr>\n",
       "      <th>124</th>\n",
       "      <td>Update README</td>\n",
       "      <td>This PR \\r\\n- updates the README to mention th...</td>\n",
       "      <td>XS</td>\n",
       "      <td>chauhankaranraj</td>\n",
       "      <td>2021-12-14 20:45:08</td>\n",
       "      <td>2021-12-15 12:57:35</td>\n",
       "      <td>MichaelClifford</td>\n",
       "      <td>2021-12-15 12:57:35</td>\n",
       "      <td>MichaelClifford</td>\n",
       "      <td>1</td>\n",
       "      <td>1</td>\n",
       "      <td>{'MichaelClifford': 1}</td>\n",
       "      <td>{}</td>\n",
       "      <td>[]</td>\n",
       "      <td>[ad9668f096e1e5ebc5b123d1c6df4ea5ed98af5a]</td>\n",
       "      <td>[notebooks/demo2/README.md]</td>\n",
       "      <td>NaT</td>\n",
       "      <td>NaT</td>\n",
       "    </tr>\n",
       "    <tr>\n",
       "      <th>123</th>\n",
       "      <td>Use specific versions instead of latest for im...</td>\n",
       "      <td>Closes #122</td>\n",
       "      <td>S</td>\n",
       "      <td>chauhankaranraj</td>\n",
       "      <td>2021-12-09 19:05:50</td>\n",
       "      <td>2021-12-10 21:26:47</td>\n",
       "      <td>MichaelClifford</td>\n",
       "      <td>2021-12-10 21:26:47</td>\n",
       "      <td>MichaelClifford</td>\n",
       "      <td>1</td>\n",
       "      <td>3</td>\n",
       "      <td>{'MichaelClifford': 1}</td>\n",
       "      <td>{'828089083': {'author': 'oindrillac', 'words_...</td>\n",
       "      <td>[]</td>\n",
       "      <td>[c0666de738d99cf9a40e2867fc8f4e51a305d086]</td>\n",
       "      <td>[Dockerfile, notebooks/demo2/inference.pipelin...</td>\n",
       "      <td>2021-12-09 19:08:17</td>\n",
       "      <td>2021-12-09 19:08:17</td>\n",
       "    </tr>\n",
       "  </tbody>\n",
       "</table>\n",
       "</div>"
      ],
      "text/plain": [
       "                                                 title  \\\n",
       "id                                                       \n",
       "130                           Fix gpu manifests builds   \n",
       "129                  Add manifests for GPU image build   \n",
       "126                              Updated documentation   \n",
       "124                                      Update README   \n",
       "123  Use specific versions instead of latest for im...   \n",
       "\n",
       "                                                  body size       created_by  \\\n",
       "id                                                                             \n",
       "130  Signed-off-by: Francesco Murdaca <fmurdaca@red...   XS        pacospace   \n",
       "129  Signed-off-by: Francesco Murdaca <fmurdaca@red...   XL        pacospace   \n",
       "126  closes #125 \\r\\ncloses #110 \\r\\n\\r\\nJupyterBoo...    M       oindrillac   \n",
       "124  This PR \\r\\n- updates the README to mention th...   XS  chauhankaranraj   \n",
       "123                                       Closes #122     S  chauhankaranraj   \n",
       "\n",
       "             created_at           closed_at        closed_by  \\\n",
       "id                                                             \n",
       "130 2022-02-22 09:31:00                 NaT             None   \n",
       "129 2022-02-14 11:10:27 2022-02-17 16:09:37    erikerlandson   \n",
       "126 2021-12-17 16:40:00 2021-12-20 13:23:14       oindrillac   \n",
       "124 2021-12-14 20:45:08 2021-12-15 12:57:35  MichaelClifford   \n",
       "123 2021-12-09 19:05:50 2021-12-10 21:26:47  MichaelClifford   \n",
       "\n",
       "              merged_at        merged_by  commits_number  \\\n",
       "id                                                         \n",
       "130                 NaT             None               1   \n",
       "129 2022-02-17 16:09:37    erikerlandson               1   \n",
       "126 2021-12-20 13:23:13       oindrillac               1   \n",
       "124 2021-12-15 12:57:35  MichaelClifford               1   \n",
       "123 2021-12-10 21:26:47  MichaelClifford               1   \n",
       "\n",
       "     changed_files_number                               interactions  \\\n",
       "id                                                                     \n",
       "130                     1                                         {}   \n",
       "129                     9                          {'pacospace': 22}   \n",
       "126                     5  {'oindrillac': 13, 'chauhankaranraj': 18}   \n",
       "124                     1                     {'MichaelClifford': 1}   \n",
       "123                     3                     {'MichaelClifford': 1}   \n",
       "\n",
       "                                               reviews labels  \\\n",
       "id                                                              \n",
       "130                                                 {}     []   \n",
       "129  {'881638114': {'author': 'erikerlandson', 'wor...     []   \n",
       "126  {'835457435': {'author': 'aakankshaduggal', 'w...     []   \n",
       "124                                                 {}     []   \n",
       "123  {'828089083': {'author': 'oindrillac', 'words_...     []   \n",
       "\n",
       "                                        commits  \\\n",
       "id                                                \n",
       "130  [d87b0a45185451072c2fef554024a273ed8985a3]   \n",
       "129  [17709f8aac5533bbaa20c311a937c89384644b14]   \n",
       "126  [523e26606333956764986a296149ca56edf56b40]   \n",
       "124  [ad9668f096e1e5ebc5b123d1c6df4ea5ed98af5a]   \n",
       "123  [c0666de738d99cf9a40e2867fc8f4e51a305d086]   \n",
       "\n",
       "                                         changed_files     first_review_at  \\\n",
       "id                                                                           \n",
       "130         [manifests/nm-gpu-training-manifests.yaml]                 NaT   \n",
       "129  [manifests/.sops.yaml, manifests/README.md, ma... 2022-02-14 13:36:05   \n",
       "126  [README.md, _config.yml, _toc.yml, notebooks/d... 2021-12-17 17:05:43   \n",
       "124                        [notebooks/demo2/README.md]                 NaT   \n",
       "123  [Dockerfile, notebooks/demo2/inference.pipelin... 2021-12-09 19:08:17   \n",
       "\n",
       "       first_approve_at  \n",
       "id                       \n",
       "130                 NaT  \n",
       "129 2022-02-14 13:36:05  \n",
       "126 2021-12-17 21:18:59  \n",
       "124                 NaT  \n",
       "123 2021-12-09 19:08:17  "
      ]
     },
     "execution_count": 19,
     "metadata": {},
     "output_type": "execute_result"
    }
   ],
   "source": [
    "pr = PullRequest(repo_slug)\n",
    "pr_df = pr.load_previous_knowledge(is_local=True)\n",
    "pr_df.head()"
   ]
  },
  {
   "cell_type": "code",
   "execution_count": 20,
   "id": "2f1967c8-d176-4082-9f03-846727d8b987",
   "metadata": {},
   "outputs": [],
   "source": [
    "pr_df = pr_df.reset_index()"
   ]
  },
  {
   "cell_type": "code",
   "execution_count": 21,
   "id": "e50476e0-8334-4619-843a-e4d23bb8f125",
   "metadata": {},
   "outputs": [
    {
     "data": {
      "text/html": [
       "<div>\n",
       "<style scoped>\n",
       "    .dataframe tbody tr th:only-of-type {\n",
       "        vertical-align: middle;\n",
       "    }\n",
       "\n",
       "    .dataframe tbody tr th {\n",
       "        vertical-align: top;\n",
       "    }\n",
       "\n",
       "    .dataframe thead th {\n",
       "        text-align: right;\n",
       "    }\n",
       "</style>\n",
       "<table border=\"1\" class=\"dataframe\">\n",
       "  <thead>\n",
       "    <tr style=\"text-align: right;\">\n",
       "      <th></th>\n",
       "      <th>id</th>\n",
       "      <th>title</th>\n",
       "      <th>body</th>\n",
       "      <th>size</th>\n",
       "      <th>created_by</th>\n",
       "      <th>created_at</th>\n",
       "      <th>closed_at</th>\n",
       "      <th>closed_by</th>\n",
       "      <th>merged_at</th>\n",
       "      <th>merged_by</th>\n",
       "      <th>commits_number</th>\n",
       "      <th>changed_files_number</th>\n",
       "      <th>interactions</th>\n",
       "      <th>reviews</th>\n",
       "      <th>labels</th>\n",
       "      <th>commits</th>\n",
       "      <th>changed_files</th>\n",
       "      <th>first_review_at</th>\n",
       "      <th>first_approve_at</th>\n",
       "    </tr>\n",
       "  </thead>\n",
       "  <tbody>\n",
       "    <tr>\n",
       "      <th>0</th>\n",
       "      <td>130</td>\n",
       "      <td>Fix gpu manifests builds</td>\n",
       "      <td>Signed-off-by: Francesco Murdaca &lt;fmurdaca@red...</td>\n",
       "      <td>XS</td>\n",
       "      <td>pacospace</td>\n",
       "      <td>2022-02-22 09:31:00</td>\n",
       "      <td>NaT</td>\n",
       "      <td>None</td>\n",
       "      <td>NaT</td>\n",
       "      <td>None</td>\n",
       "      <td>1</td>\n",
       "      <td>1</td>\n",
       "      <td>{}</td>\n",
       "      <td>{}</td>\n",
       "      <td>[]</td>\n",
       "      <td>[d87b0a45185451072c2fef554024a273ed8985a3]</td>\n",
       "      <td>[manifests/nm-gpu-training-manifests.yaml]</td>\n",
       "      <td>NaT</td>\n",
       "      <td>NaT</td>\n",
       "    </tr>\n",
       "    <tr>\n",
       "      <th>1</th>\n",
       "      <td>129</td>\n",
       "      <td>Add manifests for GPU image build</td>\n",
       "      <td>Signed-off-by: Francesco Murdaca &lt;fmurdaca@red...</td>\n",
       "      <td>XL</td>\n",
       "      <td>pacospace</td>\n",
       "      <td>2022-02-14 11:10:27</td>\n",
       "      <td>2022-02-17 16:09:37</td>\n",
       "      <td>erikerlandson</td>\n",
       "      <td>2022-02-17 16:09:37</td>\n",
       "      <td>erikerlandson</td>\n",
       "      <td>1</td>\n",
       "      <td>9</td>\n",
       "      <td>{'pacospace': 22}</td>\n",
       "      <td>{'881638114': {'author': 'erikerlandson', 'wor...</td>\n",
       "      <td>[]</td>\n",
       "      <td>[17709f8aac5533bbaa20c311a937c89384644b14]</td>\n",
       "      <td>[manifests/.sops.yaml, manifests/README.md, ma...</td>\n",
       "      <td>2022-02-14 13:36:05</td>\n",
       "      <td>2022-02-14 13:36:05</td>\n",
       "    </tr>\n",
       "    <tr>\n",
       "      <th>2</th>\n",
       "      <td>126</td>\n",
       "      <td>Updated documentation</td>\n",
       "      <td>closes #125 \\r\\ncloses #110 \\r\\n\\r\\nJupyterBoo...</td>\n",
       "      <td>M</td>\n",
       "      <td>oindrillac</td>\n",
       "      <td>2021-12-17 16:40:00</td>\n",
       "      <td>2021-12-20 13:23:14</td>\n",
       "      <td>oindrillac</td>\n",
       "      <td>2021-12-20 13:23:13</td>\n",
       "      <td>oindrillac</td>\n",
       "      <td>1</td>\n",
       "      <td>5</td>\n",
       "      <td>{'oindrillac': 13, 'chauhankaranraj': 18}</td>\n",
       "      <td>{'835457435': {'author': 'aakankshaduggal', 'w...</td>\n",
       "      <td>[]</td>\n",
       "      <td>[523e26606333956764986a296149ca56edf56b40]</td>\n",
       "      <td>[README.md, _config.yml, _toc.yml, notebooks/d...</td>\n",
       "      <td>2021-12-17 17:05:43</td>\n",
       "      <td>2021-12-17 21:18:59</td>\n",
       "    </tr>\n",
       "    <tr>\n",
       "      <th>3</th>\n",
       "      <td>124</td>\n",
       "      <td>Update README</td>\n",
       "      <td>This PR \\r\\n- updates the README to mention th...</td>\n",
       "      <td>XS</td>\n",
       "      <td>chauhankaranraj</td>\n",
       "      <td>2021-12-14 20:45:08</td>\n",
       "      <td>2021-12-15 12:57:35</td>\n",
       "      <td>MichaelClifford</td>\n",
       "      <td>2021-12-15 12:57:35</td>\n",
       "      <td>MichaelClifford</td>\n",
       "      <td>1</td>\n",
       "      <td>1</td>\n",
       "      <td>{'MichaelClifford': 1}</td>\n",
       "      <td>{}</td>\n",
       "      <td>[]</td>\n",
       "      <td>[ad9668f096e1e5ebc5b123d1c6df4ea5ed98af5a]</td>\n",
       "      <td>[notebooks/demo2/README.md]</td>\n",
       "      <td>NaT</td>\n",
       "      <td>NaT</td>\n",
       "    </tr>\n",
       "    <tr>\n",
       "      <th>4</th>\n",
       "      <td>123</td>\n",
       "      <td>Use specific versions instead of latest for im...</td>\n",
       "      <td>Closes #122</td>\n",
       "      <td>S</td>\n",
       "      <td>chauhankaranraj</td>\n",
       "      <td>2021-12-09 19:05:50</td>\n",
       "      <td>2021-12-10 21:26:47</td>\n",
       "      <td>MichaelClifford</td>\n",
       "      <td>2021-12-10 21:26:47</td>\n",
       "      <td>MichaelClifford</td>\n",
       "      <td>1</td>\n",
       "      <td>3</td>\n",
       "      <td>{'MichaelClifford': 1}</td>\n",
       "      <td>{'828089083': {'author': 'oindrillac', 'words_...</td>\n",
       "      <td>[]</td>\n",
       "      <td>[c0666de738d99cf9a40e2867fc8f4e51a305d086]</td>\n",
       "      <td>[Dockerfile, notebooks/demo2/inference.pipelin...</td>\n",
       "      <td>2021-12-09 19:08:17</td>\n",
       "      <td>2021-12-09 19:08:17</td>\n",
       "    </tr>\n",
       "  </tbody>\n",
       "</table>\n",
       "</div>"
      ],
      "text/plain": [
       "    id                                              title  \\\n",
       "0  130                           Fix gpu manifests builds   \n",
       "1  129                  Add manifests for GPU image build   \n",
       "2  126                              Updated documentation   \n",
       "3  124                                      Update README   \n",
       "4  123  Use specific versions instead of latest for im...   \n",
       "\n",
       "                                                body size       created_by  \\\n",
       "0  Signed-off-by: Francesco Murdaca <fmurdaca@red...   XS        pacospace   \n",
       "1  Signed-off-by: Francesco Murdaca <fmurdaca@red...   XL        pacospace   \n",
       "2  closes #125 \\r\\ncloses #110 \\r\\n\\r\\nJupyterBoo...    M       oindrillac   \n",
       "3  This PR \\r\\n- updates the README to mention th...   XS  chauhankaranraj   \n",
       "4                                       Closes #122     S  chauhankaranraj   \n",
       "\n",
       "           created_at           closed_at        closed_by  \\\n",
       "0 2022-02-22 09:31:00                 NaT             None   \n",
       "1 2022-02-14 11:10:27 2022-02-17 16:09:37    erikerlandson   \n",
       "2 2021-12-17 16:40:00 2021-12-20 13:23:14       oindrillac   \n",
       "3 2021-12-14 20:45:08 2021-12-15 12:57:35  MichaelClifford   \n",
       "4 2021-12-09 19:05:50 2021-12-10 21:26:47  MichaelClifford   \n",
       "\n",
       "            merged_at        merged_by  commits_number  changed_files_number  \\\n",
       "0                 NaT             None               1                     1   \n",
       "1 2022-02-17 16:09:37    erikerlandson               1                     9   \n",
       "2 2021-12-20 13:23:13       oindrillac               1                     5   \n",
       "3 2021-12-15 12:57:35  MichaelClifford               1                     1   \n",
       "4 2021-12-10 21:26:47  MichaelClifford               1                     3   \n",
       "\n",
       "                                interactions  \\\n",
       "0                                         {}   \n",
       "1                          {'pacospace': 22}   \n",
       "2  {'oindrillac': 13, 'chauhankaranraj': 18}   \n",
       "3                     {'MichaelClifford': 1}   \n",
       "4                     {'MichaelClifford': 1}   \n",
       "\n",
       "                                             reviews labels  \\\n",
       "0                                                 {}     []   \n",
       "1  {'881638114': {'author': 'erikerlandson', 'wor...     []   \n",
       "2  {'835457435': {'author': 'aakankshaduggal', 'w...     []   \n",
       "3                                                 {}     []   \n",
       "4  {'828089083': {'author': 'oindrillac', 'words_...     []   \n",
       "\n",
       "                                      commits  \\\n",
       "0  [d87b0a45185451072c2fef554024a273ed8985a3]   \n",
       "1  [17709f8aac5533bbaa20c311a937c89384644b14]   \n",
       "2  [523e26606333956764986a296149ca56edf56b40]   \n",
       "3  [ad9668f096e1e5ebc5b123d1c6df4ea5ed98af5a]   \n",
       "4  [c0666de738d99cf9a40e2867fc8f4e51a305d086]   \n",
       "\n",
       "                                       changed_files     first_review_at  \\\n",
       "0         [manifests/nm-gpu-training-manifests.yaml]                 NaT   \n",
       "1  [manifests/.sops.yaml, manifests/README.md, ma... 2022-02-14 13:36:05   \n",
       "2  [README.md, _config.yml, _toc.yml, notebooks/d... 2021-12-17 17:05:43   \n",
       "3                        [notebooks/demo2/README.md]                 NaT   \n",
       "4  [Dockerfile, notebooks/demo2/inference.pipelin... 2021-12-09 19:08:17   \n",
       "\n",
       "     first_approve_at  \n",
       "0                 NaT  \n",
       "1 2022-02-14 13:36:05  \n",
       "2 2021-12-17 21:18:59  \n",
       "3                 NaT  \n",
       "4 2021-12-09 19:08:17  "
      ]
     },
     "execution_count": 21,
     "metadata": {},
     "output_type": "execute_result"
    }
   ],
   "source": [
    "pr_df.head()"
   ]
  },
  {
   "cell_type": "markdown",
   "id": "e4abc5a0-6288-4b8b-b07a-f85e82ec331e",
   "metadata": {},
   "source": [
    "### Number of PRs created over time"
   ]
  },
  {
   "cell_type": "code",
   "execution_count": 22,
   "id": "345d29c2-4278-4d76-85a4-67857b994e54",
   "metadata": {},
   "outputs": [],
   "source": [
    "# Let's find the number of PRs created daily\n",
    "pr_created_daily = (\n",
    "    pr_df[\"created_at\"].groupby(pr_df.created_at.dt.to_period(\"D\")).agg(\"count\")\n",
    ")"
   ]
  },
  {
   "cell_type": "code",
   "execution_count": 23,
   "id": "c7082334-6fd6-479c-8d8c-8505c45a4bcd",
   "metadata": {},
   "outputs": [
    {
     "data": {
      "text/plain": [
       "created_at\n",
       "2021-09-08    2\n",
       "2021-09-20    2\n",
       "2021-09-27    1\n",
       "2021-09-29    1\n",
       "2021-10-01    2\n",
       "Freq: D, Name: created_at, dtype: int64"
      ]
     },
     "execution_count": 23,
     "metadata": {},
     "output_type": "execute_result"
    }
   ],
   "source": [
    "pr_created_daily.head()"
   ]
  },
  {
   "cell_type": "code",
   "execution_count": 24,
   "id": "1c71f0ba-2918-4e2f-8267-001acee372de",
   "metadata": {},
   "outputs": [
    {
     "data": {
      "image/png": "[encoded data removed]",
      "text/plain": [
       "<Figure size 432x288 with 1 Axes>"
      ]
     },
     "metadata": {
      "needs_background": "light"
     },
     "output_type": "display_data"
    }
   ],
   "source": [
    "pr_created_daily.plot.bar()\n",
    "\n",
    "plt.xlabel(\"Days\")\n",
    "locs, labels = plt.xticks()\n",
    "N = 10\n",
    "plt.xticks(locs[::N], pr_created_daily.index[::N].strftime(\"%b %Y\"))\n",
    "plt.xticks(rotation=45)\n",
    "plt.ylabel(\"# PRs\")\n",
    "plt.title(\"# Daily PRs Created\")\n",
    "plt.show()"
   ]
  },
  {
   "cell_type": "markdown",
   "id": "438cb21e-09f9-4acf-b9fd-fdde5aba83aa",
   "metadata": {},
   "source": [
    "### Number of open PRs"
   ]
  },
  {
   "cell_type": "code",
   "execution_count": 25,
   "id": "9f7cd17a-687c-4a03-a87c-ffe240f64b7e",
   "metadata": {},
   "outputs": [
    {
     "data": {
      "text/plain": [
       "3"
      ]
     },
     "execution_count": 25,
     "metadata": {},
     "output_type": "execute_result"
    }
   ],
   "source": [
    "num_open_prs = pr_df[\"closed_at\"].isna().sum()\n",
    "num_open_prs"
   ]
  },
  {
   "cell_type": "markdown",
   "id": "8b2ff585-32b4-494c-b0c5-34aa4d272c3b",
   "metadata": {},
   "source": [
    "### Number of closed PRs"
   ]
  },
  {
   "cell_type": "code",
   "execution_count": 26,
   "id": "23791b02-babc-4cfb-9356-066e6957a9f1",
   "metadata": {},
   "outputs": [
    {
     "data": {
      "text/plain": [
       "52"
      ]
     },
     "execution_count": 26,
     "metadata": {},
     "output_type": "execute_result"
    }
   ],
   "source": [
    "num_close_prs = pr_df[\"closed_at\"].notnull().sum()\n",
    "num_close_prs"
   ]
  },
  {
   "cell_type": "markdown",
   "id": "29ef9b90-f12a-41bc-a553-30032e08cf4e",
   "metadata": {},
   "source": [
    "### Ratio of opened to closed PRs over the last 90 days (quarter) "
   ]
  },
  {
   "cell_type": "code",
   "execution_count": 27,
   "id": "d25a8a9d-d34d-4125-b4c1-e11d552a6e22",
   "metadata": {},
   "outputs": [
    {
     "name": "stdout",
     "output_type": "stream",
     "text": [
      "Number of open PRs: 7\n",
      "Number of closed PRs: 7\n",
      "Ratio of open to closed PRs over last 90 days: 1.0\n"
     ]
    }
   ],
   "source": [
    "num_open_prs_90d = len(\n",
    "    pr_df[pr_df[\"created_at\"] > (dt.datetime.now() - dt.timedelta(days=90))]\n",
    ")\n",
    "num_closed_prs_90d = len(\n",
    "    pr_df[pr_df[\"closed_at\"] > (dt.datetime.now() - dt.timedelta(days=90))]\n",
    ")\n",
    "print(\"Number of open PRs:\", num_open_prs_90d)\n",
    "print(\"Number of closed PRs:\", num_closed_prs_90d)\n",
    "\n",
    "ratio = num_open_prs_90d / num_closed_prs_90d\n",
    "print(\"Ratio of open to closed PRs over last 90 days:\", ratio)"
   ]
  },
  {
   "cell_type": "markdown",
   "id": "233eb1c6-e4ce-4a21-bdc7-537bde0ca8d9",
   "metadata": {},
   "source": [
    "A ratio of 1 indicates that we have managed to close and review all the PRs that were created in the past 90 days. Hence, we should always strive for a ratio of 1."
   ]
  },
  {
   "cell_type": "markdown",
   "id": "34b31937-adbc-438f-bb13-fe9594182618",
   "metadata": {},
   "source": [
    "### Mean time to close PRs"
   ]
  },
  {
   "cell_type": "code",
   "execution_count": 28,
   "id": "dd5fbf80-3fe4-4a5f-92a8-0f8c7cc4d271",
   "metadata": {},
   "outputs": [
    {
     "data": {
      "text/html": [
       "<div>\n",
       "<style scoped>\n",
       "    .dataframe tbody tr th:only-of-type {\n",
       "        vertical-align: middle;\n",
       "    }\n",
       "\n",
       "    .dataframe tbody tr th {\n",
       "        vertical-align: top;\n",
       "    }\n",
       "\n",
       "    .dataframe thead th {\n",
       "        text-align: right;\n",
       "    }\n",
       "</style>\n",
       "<table border=\"1\" class=\"dataframe\">\n",
       "  <thead>\n",
       "    <tr style=\"text-align: right;\">\n",
       "      <th></th>\n",
       "      <th>id</th>\n",
       "      <th>title</th>\n",
       "      <th>body</th>\n",
       "      <th>size</th>\n",
       "      <th>created_by</th>\n",
       "      <th>created_at</th>\n",
       "      <th>closed_at</th>\n",
       "      <th>closed_by</th>\n",
       "      <th>merged_at</th>\n",
       "      <th>merged_by</th>\n",
       "      <th>commits_number</th>\n",
       "      <th>changed_files_number</th>\n",
       "      <th>interactions</th>\n",
       "      <th>reviews</th>\n",
       "      <th>labels</th>\n",
       "      <th>commits</th>\n",
       "      <th>changed_files</th>\n",
       "      <th>first_review_at</th>\n",
       "      <th>first_approve_at</th>\n",
       "      <th>time_to_close</th>\n",
       "    </tr>\n",
       "  </thead>\n",
       "  <tbody>\n",
       "    <tr>\n",
       "      <th>0</th>\n",
       "      <td>130</td>\n",
       "      <td>Fix gpu manifests builds</td>\n",
       "      <td>Signed-off-by: Francesco Murdaca &lt;fmurdaca@red...</td>\n",
       "      <td>XS</td>\n",
       "      <td>pacospace</td>\n",
       "      <td>2022-02-22 09:31:00</td>\n",
       "      <td>NaT</td>\n",
       "      <td>None</td>\n",
       "      <td>NaT</td>\n",
       "      <td>None</td>\n",
       "      <td>1</td>\n",
       "      <td>1</td>\n",
       "      <td>{}</td>\n",
       "      <td>{}</td>\n",
       "      <td>[]</td>\n",
       "      <td>[d87b0a45185451072c2fef554024a273ed8985a3]</td>\n",
       "      <td>[manifests/nm-gpu-training-manifests.yaml]</td>\n",
       "      <td>NaT</td>\n",
       "      <td>NaT</td>\n",
       "      <td>NaT</td>\n",
       "    </tr>\n",
       "    <tr>\n",
       "      <th>1</th>\n",
       "      <td>129</td>\n",
       "      <td>Add manifests for GPU image build</td>\n",
       "      <td>Signed-off-by: Francesco Murdaca &lt;fmurdaca@red...</td>\n",
       "      <td>XL</td>\n",
       "      <td>pacospace</td>\n",
       "      <td>2022-02-14 11:10:27</td>\n",
       "      <td>2022-02-17 16:09:37</td>\n",
       "      <td>erikerlandson</td>\n",
       "      <td>2022-02-17 16:09:37</td>\n",
       "      <td>erikerlandson</td>\n",
       "      <td>1</td>\n",
       "      <td>9</td>\n",
       "      <td>{'pacospace': 22}</td>\n",
       "      <td>{'881638114': {'author': 'erikerlandson', 'wor...</td>\n",
       "      <td>[]</td>\n",
       "      <td>[17709f8aac5533bbaa20c311a937c89384644b14]</td>\n",
       "      <td>[manifests/.sops.yaml, manifests/README.md, ma...</td>\n",
       "      <td>2022-02-14 13:36:05</td>\n",
       "      <td>2022-02-14 13:36:05</td>\n",
       "      <td>3 days 04:59:10</td>\n",
       "    </tr>\n",
       "    <tr>\n",
       "      <th>2</th>\n",
       "      <td>126</td>\n",
       "      <td>Updated documentation</td>\n",
       "      <td>closes #125 \\r\\ncloses #110 \\r\\n\\r\\nJupyterBoo...</td>\n",
       "      <td>M</td>\n",
       "      <td>oindrillac</td>\n",
       "      <td>2021-12-17 16:40:00</td>\n",
       "      <td>2021-12-20 13:23:14</td>\n",
       "      <td>oindrillac</td>\n",
       "      <td>2021-12-20 13:23:13</td>\n",
       "      <td>oindrillac</td>\n",
       "      <td>1</td>\n",
       "      <td>5</td>\n",
       "      <td>{'oindrillac': 13, 'chauhankaranraj': 18}</td>\n",
       "      <td>{'835457435': {'author': 'aakankshaduggal', 'w...</td>\n",
       "      <td>[]</td>\n",
       "      <td>[523e26606333956764986a296149ca56edf56b40]</td>\n",
       "      <td>[README.md, _config.yml, _toc.yml, notebooks/d...</td>\n",
       "      <td>2021-12-17 17:05:43</td>\n",
       "      <td>2021-12-17 21:18:59</td>\n",
       "      <td>2 days 20:43:14</td>\n",
       "    </tr>\n",
       "    <tr>\n",
       "      <th>3</th>\n",
       "      <td>124</td>\n",
       "      <td>Update README</td>\n",
       "      <td>This PR \\r\\n- updates the README to mention th...</td>\n",
       "      <td>XS</td>\n",
       "      <td>chauhankaranraj</td>\n",
       "      <td>2021-12-14 20:45:08</td>\n",
       "      <td>2021-12-15 12:57:35</td>\n",
       "      <td>MichaelClifford</td>\n",
       "      <td>2021-12-15 12:57:35</td>\n",
       "      <td>MichaelClifford</td>\n",
       "      <td>1</td>\n",
       "      <td>1</td>\n",
       "      <td>{'MichaelClifford': 1}</td>\n",
       "      <td>{}</td>\n",
       "      <td>[]</td>\n",
       "      <td>[ad9668f096e1e5ebc5b123d1c6df4ea5ed98af5a]</td>\n",
       "      <td>[notebooks/demo2/README.md]</td>\n",
       "      <td>NaT</td>\n",
       "      <td>NaT</td>\n",
       "      <td>0 days 16:12:27</td>\n",
       "    </tr>\n",
       "    <tr>\n",
       "      <th>4</th>\n",
       "      <td>123</td>\n",
       "      <td>Use specific versions instead of latest for im...</td>\n",
       "      <td>Closes #122</td>\n",
       "      <td>S</td>\n",
       "      <td>chauhankaranraj</td>\n",
       "      <td>2021-12-09 19:05:50</td>\n",
       "      <td>2021-12-10 21:26:47</td>\n",
       "      <td>MichaelClifford</td>\n",
       "      <td>2021-12-10 21:26:47</td>\n",
       "      <td>MichaelClifford</td>\n",
       "      <td>1</td>\n",
       "      <td>3</td>\n",
       "      <td>{'MichaelClifford': 1}</td>\n",
       "      <td>{'828089083': {'author': 'oindrillac', 'words_...</td>\n",
       "      <td>[]</td>\n",
       "      <td>[c0666de738d99cf9a40e2867fc8f4e51a305d086]</td>\n",
       "      <td>[Dockerfile, notebooks/demo2/inference.pipelin...</td>\n",
       "      <td>2021-12-09 19:08:17</td>\n",
       "      <td>2021-12-09 19:08:17</td>\n",
       "      <td>1 days 02:20:57</td>\n",
       "    </tr>\n",
       "  </tbody>\n",
       "</table>\n",
       "</div>"
      ],
      "text/plain": [
       "    id                                              title  \\\n",
       "0  130                           Fix gpu manifests builds   \n",
       "1  129                  Add manifests for GPU image build   \n",
       "2  126                              Updated documentation   \n",
       "3  124                                      Update README   \n",
       "4  123  Use specific versions instead of latest for im...   \n",
       "\n",
       "                                                body size       created_by  \\\n",
       "0  Signed-off-by: Francesco Murdaca <fmurdaca@red...   XS        pacospace   \n",
       "1  Signed-off-by: Francesco Murdaca <fmurdaca@red...   XL        pacospace   \n",
       "2  closes #125 \\r\\ncloses #110 \\r\\n\\r\\nJupyterBoo...    M       oindrillac   \n",
       "3  This PR \\r\\n- updates the README to mention th...   XS  chauhankaranraj   \n",
       "4                                       Closes #122     S  chauhankaranraj   \n",
       "\n",
       "           created_at           closed_at        closed_by  \\\n",
       "0 2022-02-22 09:31:00                 NaT             None   \n",
       "1 2022-02-14 11:10:27 2022-02-17 16:09:37    erikerlandson   \n",
       "2 2021-12-17 16:40:00 2021-12-20 13:23:14       oindrillac   \n",
       "3 2021-12-14 20:45:08 2021-12-15 12:57:35  MichaelClifford   \n",
       "4 2021-12-09 19:05:50 2021-12-10 21:26:47  MichaelClifford   \n",
       "\n",
       "            merged_at        merged_by  commits_number  changed_files_number  \\\n",
       "0                 NaT             None               1                     1   \n",
       "1 2022-02-17 16:09:37    erikerlandson               1                     9   \n",
       "2 2021-12-20 13:23:13       oindrillac               1                     5   \n",
       "3 2021-12-15 12:57:35  MichaelClifford               1                     1   \n",
       "4 2021-12-10 21:26:47  MichaelClifford               1                     3   \n",
       "\n",
       "                                interactions  \\\n",
       "0                                         {}   \n",
       "1                          {'pacospace': 22}   \n",
       "2  {'oindrillac': 13, 'chauhankaranraj': 18}   \n",
       "3                     {'MichaelClifford': 1}   \n",
       "4                     {'MichaelClifford': 1}   \n",
       "\n",
       "                                             reviews labels  \\\n",
       "0                                                 {}     []   \n",
       "1  {'881638114': {'author': 'erikerlandson', 'wor...     []   \n",
       "2  {'835457435': {'author': 'aakankshaduggal', 'w...     []   \n",
       "3                                                 {}     []   \n",
       "4  {'828089083': {'author': 'oindrillac', 'words_...     []   \n",
       "\n",
       "                                      commits  \\\n",
       "0  [d87b0a45185451072c2fef554024a273ed8985a3]   \n",
       "1  [17709f8aac5533bbaa20c311a937c89384644b14]   \n",
       "2  [523e26606333956764986a296149ca56edf56b40]   \n",
       "3  [ad9668f096e1e5ebc5b123d1c6df4ea5ed98af5a]   \n",
       "4  [c0666de738d99cf9a40e2867fc8f4e51a305d086]   \n",
       "\n",
       "                                       changed_files     first_review_at  \\\n",
       "0         [manifests/nm-gpu-training-manifests.yaml]                 NaT   \n",
       "1  [manifests/.sops.yaml, manifests/README.md, ma... 2022-02-14 13:36:05   \n",
       "2  [README.md, _config.yml, _toc.yml, notebooks/d... 2021-12-17 17:05:43   \n",
       "3                        [notebooks/demo2/README.md]                 NaT   \n",
       "4  [Dockerfile, notebooks/demo2/inference.pipelin... 2021-12-09 19:08:17   \n",
       "\n",
       "     first_approve_at   time_to_close  \n",
       "0                 NaT             NaT  \n",
       "1 2022-02-14 13:36:05 3 days 04:59:10  \n",
       "2 2021-12-17 21:18:59 2 days 20:43:14  \n",
       "3                 NaT 0 days 16:12:27  \n",
       "4 2021-12-09 19:08:17 1 days 02:20:57  "
      ]
     },
     "execution_count": 28,
     "metadata": {},
     "output_type": "execute_result"
    }
   ],
   "source": [
    "# Calculate the time taken to close a PR\n",
    "pr_df[\"time_to_close\"] = pr_df.closed_at - pr_df.created_at\n",
    "pr_df.head()"
   ]
  },
  {
   "cell_type": "markdown",
   "id": "00a2bd93-ffc6-495a-9213-f94826c85407",
   "metadata": {},
   "source": [
    "Now let's find out the median time taken to close PRs grouped by month."
   ]
  },
  {
   "cell_type": "code",
   "execution_count": 29,
   "id": "a7811e77-447c-4139-b535-aefffe103005",
   "metadata": {},
   "outputs": [
    {
     "data": {
      "text/plain": [
       "created_at\n",
       "2021-09            0 days 22:06:07.500000\n",
       "2021-10                   0 days 19:59:33\n",
       "2021-11                   0 days 12:40:38\n",
       "2021-12                   1 days 02:20:57\n",
       "2022-02   -53375 days +14:35:56.572612096\n",
       "Freq: M, Name: time_to_close, dtype: timedelta64[ns]"
      ]
     },
     "execution_count": 29,
     "metadata": {},
     "output_type": "execute_result"
    }
   ],
   "source": [
    "prs_closed_monthly = (\n",
    "    pr_df[\"time_to_close\"].groupby(pr_df.created_at.dt.to_period(\"M\")).agg(\"median\")\n",
    ")\n",
    "prs_closed_monthly"
   ]
  },
  {
   "cell_type": "markdown",
   "id": "3b65bfe7-4f2f-4045-b4ab-30f157d660f5",
   "metadata": {},
   "source": [
    "We can visualize the trend in median time to close PRs by month. However, in order to best capture all the median values including the outliers we can normalize the data by taking the log of the values before plotting. We should also consider the level of granularity we would like to capture and visualize the median time in i.e. days vs hours vs minutes vs seconds.\n",
    "\n",
    "Let us first consider the different levels of granularity for the median time to close PRs."
   ]
  },
  {
   "cell_type": "code",
   "execution_count": 30,
   "id": "b3bd9157-ce9d-4405-bd65-1d3147134aaf",
   "metadata": {},
   "outputs": [],
   "source": [
    "# days\n",
    "prs_closed_monthly_days = prs_closed_monthly.astype(\"timedelta64[D]\")\n",
    "# hours\n",
    "prs_closed_monthly_hours = prs_closed_monthly.astype(\"timedelta64[h]\")\n",
    "# minutes\n",
    "prs_closed_monthly_minutes = prs_closed_monthly.astype(\"timedelta64[m]\")\n",
    "# seconds\n",
    "prs_closed_monthly_seconds = prs_closed_monthly.astype(\"timedelta64[s]\")"
   ]
  },
  {
   "cell_type": "markdown",
   "id": "e3a2243f-6e81-4f8a-82d7-424cb4fd5e5e",
   "metadata": {},
   "source": [
    "We can now proceed to normalizing the values"
   ]
  },
  {
   "cell_type": "code",
   "execution_count": 31,
   "id": "de737c10-6ea0-4520-8ec9-5563ed3358f1",
   "metadata": {},
   "outputs": [],
   "source": [
    "prs_closed_monthly_days_norm = np.log(prs_closed_monthly_days)\n",
    "prs_closed_monthly_hours_norm = np.log(prs_closed_monthly_hours)\n",
    "prs_closed_monthly_minutes_norm = np.log(prs_closed_monthly_minutes)\n",
    "prs_closed_monthly_seconds_norm = np.log(prs_closed_monthly_seconds)"
   ]
  },
  {
   "cell_type": "code",
   "execution_count": 32,
   "id": "ea274678-54d7-486f-ad2c-9c072ab37578",
   "metadata": {},
   "outputs": [
    {
     "data": {
      "text/plain": [
       "created_at\n",
       "2021-09    3.091042\n",
       "2021-10    2.944439\n",
       "2021-11    2.484907\n",
       "2021-12    3.258097\n",
       "2022-02         NaN\n",
       "Freq: M, Name: time_to_close, dtype: float64"
      ]
     },
     "execution_count": 32,
     "metadata": {},
     "output_type": "execute_result"
    }
   ],
   "source": [
    "prs_closed_monthly_hours_norm"
   ]
  },
  {
   "cell_type": "markdown",
   "id": "5376e415-7f7a-4e18-9049-a569615394f0",
   "metadata": {},
   "source": [
    "We will now consider the granularity level to be \"hours\" and plot the median time to close PRs grouped by months."
   ]
  },
  {
   "cell_type": "code",
   "execution_count": 33,
   "id": "8bb8e6ee-7718-4456-bf3f-341eeee38914",
   "metadata": {},
   "outputs": [
    {
     "data": {
      "image/png": "[encoded data removed]",
      "text/plain": [
       "<Figure size 432x288 with 1 Axes>"
      ]
     },
     "metadata": {
      "needs_background": "light"
     },
     "output_type": "display_data"
    }
   ],
   "source": [
    "prs_closed_monthly_hours_norm.plot()\n",
    "plt.xlabel(\"Month\")\n",
    "plt.ylabel(\"Median time to close (hours)\")\n",
    "plt.title(\"Median Time to Close PRs (hours)\")\n",
    "plt.show()"
   ]
  }
 ],
 "metadata": {
  "kernelspec": {
   "display_name": "Python 3",
   "language": "python",
   "name": "python3"
  },
  "language_info": {
   "codemirror_mode": {
    "name": "ipython",
    "version": 3
   },
   "file_extension": ".py",
   "mimetype": "text/x-python",
   "name": "python",
   "nbconvert_exporter": "python",
   "pygments_lexer": "ipython3",
   "version": "3.8.6"
  }
 },
 "nbformat": 4,
 "nbformat_minor": 5
}
