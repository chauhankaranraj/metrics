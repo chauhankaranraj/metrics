{
 "cells": [
  {
   "cell_type": "markdown",
   "id": "50dcee0c-1ec3-4f00-9fe0-f34759445efe",
   "metadata": {},
   "source": [
    "# GitHub Repository Metric Analysis\n",
    "\n",
    "In this notebook, we will analyze the GitHub data collected for the repositories mentioned in [sigs.yaml](https://github.com/open-services-group/community/blob/main/sigs.yaml) and derive some basic metrics such as number of issues/PR open, number of issues/PR closed, mean time to close PRs/issues etc.\n",
    "\n",
    "This notebook will serve as a template notebook to analyze different GitHub repositories so that it can be easily executed in automation as part of our metrics processing pipeline. The notebook can be executed in parallel for different repos by passing as an argument the GitHub repository for which we would like to analyze and calculate metrics.\n",
    "\n",
    "(Related issues: [Issue 1](https://github.com/open-services-group/metrics/issues/19))"
   ]
  },
  {
   "cell_type": "code",
   "execution_count": 1,
   "id": "d2c5a94e-ee0e-4be8-b4a6-4756a48abc27",
   "metadata": {},
   "outputs": [
    {
     "data": {
      "text/plain": [
       "True"
      ]
     },
     "execution_count": 1,
     "metadata": {},
     "output_type": "execute_result"
    }
   ],
   "source": [
    "import os\n",
    "import datetime as dt\n",
    "import numpy as np\n",
    "from dotenv import find_dotenv, load_dotenv\n",
    "from matplotlib import pyplot as plt\n",
    "import warnings\n",
    "import trino\n",
    "\n",
    "from s3_communication import S3Communication\n",
    "\n",
    "# Note: The GitHub access token needs to be exported before importing the srcopmetrics package (current bug)\n",
    "from srcopsmetrics.entities.issue import Issue  # noqa: E402\n",
    "from srcopsmetrics.entities.pull_request import PullRequest  # noqa: E402\n",
    "\n",
    "warnings.filterwarnings(\"ignore\")\n",
    "load_dotenv(find_dotenv())"
   ]
  },
  {
   "cell_type": "code",
   "execution_count": 2,
   "id": "73aa4caf-9e7d-44f9-8e13-71a60ba00d96",
   "metadata": {},
   "outputs": [],
   "source": [
    "# init s3 connector\n",
    "s3c = S3Communication(\n",
    "    s3_endpoint_url=os.getenv(\"S3_ENDPOINT\"),\n",
    "    aws_access_key_id=os.getenv(\"S3_ACCESS_KEY\"),\n",
    "    aws_secret_access_key=os.getenv(\"S3_SECRET_KEY\"),\n",
    "    s3_bucket=os.getenv(\"S3_BUCKET\"),\n",
    ")"
   ]
  },
  {
   "cell_type": "code",
   "execution_count": 3,
   "id": "10840dbf-4591-4b5b-bab6-b517f7eb3ffd",
   "metadata": {},
   "outputs": [],
   "source": [
    "## Create a .env file on your local with the correct configs\n",
    "REPO = os.getenv(\"REPO\")\n",
    "ORG = os.getenv(\"ORG\")\n",
    "GITHUB_ACCESS_TOKEN = os.getenv(\"GITHUB_ACCESS_TOKEN\")"
   ]
  },
  {
   "cell_type": "code",
   "execution_count": 4,
   "id": "11d4c8ee-b5bb-4917-9721-2f3eaa5983b4",
   "metadata": {},
   "outputs": [
    {
     "data": {
      "text/plain": [
       "'os-climate/aicoe-osc-demo'"
      ]
     },
     "execution_count": 4,
     "metadata": {},
     "output_type": "execute_result"
    }
   ],
   "source": [
    "repo_slug = f\"{ORG}/{REPO}\"\n",
    "repo_slug"
   ]
  },
  {
   "cell_type": "code",
   "execution_count": 5,
   "id": "c0050913-d122-4020-a1ce-2ef83a56fdee",
   "metadata": {
    "tags": []
   },
   "outputs": [
    {
     "name": "stdout",
     "output_type": "stream",
     "text": [
      "INFO:srcopsmetrics.github_knowledge:Overall repositories found: 1\n",
      "INFO:srcopsmetrics.bot_knowledge:######################## Analysing os-climate/aicoe-osc-demo ########################\n",
      "\n",
      "INFO:srcopsmetrics.bot_knowledge:########################\n",
      "INFO:srcopsmetrics.bot_knowledge:Detected entities:\n",
      "CodeFrequency # Commit # DependencyUpdate # Fork # Issue # IssueEvent # KebechetUpdateManager # License # PullRequest # PullRequestDiscussion # RawIssue # RawPullRequest # ReadMe # Release # Stargazer # TrafficClones # TrafficPaths # TrafficPaths # TrafficReferrers # TrafficClones # TrafficViews\n",
      "INFO:srcopsmetrics.bot_knowledge:########################\n",
      "INFO:srcopsmetrics.bot_knowledge:Issue inspection\n",
      "INFO:srcopsmetrics.entities.tools.storage:Loading knowledge locally\n",
      "INFO:srcopsmetrics.entities.tools.storage:Data from file %s loaded\n",
      "INFO:srcopsmetrics.entities.interface:Found previous Issue knowledge for os-climate/aicoe-osc-demo with 77 records\n",
      "INFO:srcopsmetrics.iterator:-------------Issue Analysis-------------\n",
      "100%|████████████████████| 133/133 [00:16<00:00,  8.11it/s, RATE remaining=4912]\n",
      "INFO:srcopsmetrics.entities.interface:Nothing to store.\n",
      "INFO:srcopsmetrics.entities.interface:\n",
      "\n",
      "INFO:srcopsmetrics.bot_knowledge:\n",
      "\n",
      "INFO:srcopsmetrics.bot_knowledge:PullRequest inspection\n",
      "INFO:srcopsmetrics.entities.tools.storage:Loading knowledge locally\n",
      "INFO:srcopsmetrics.entities.tools.storage:Data from file %s loaded\n",
      "INFO:srcopsmetrics.entities.interface:Found previous PullRequest knowledge for os-climate/aicoe-osc-demo with 56 records\n",
      "INFO:srcopsmetrics.iterator:-------------PullRequest Analysis-------------\n",
      "INFO:srcopsmetrics.entities.pull_request:Extracting PR #133                     \n",
      "INFO:srcopsmetrics.entities.pull_request:Extracting PR #130                     \n",
      "INFO:srcopsmetrics.entities.pull_request:Extracting PR #129                     \n",
      "INFO:srcopsmetrics.entities.pull_request:Extracting PR #126                     \n",
      "INFO:srcopsmetrics.entities.pull_request:Extracting PR #124                     \n",
      "INFO:srcopsmetrics.entities.pull_request:Extracting PR #123                     \n",
      "INFO:srcopsmetrics.entities.pull_request:Extracting PR #119                     \n",
      "INFO:srcopsmetrics.entities.pull_request:Extracting PR #117                     \n",
      "INFO:srcopsmetrics.entities.pull_request:Extracting PR #116                     \n",
      "INFO:srcopsmetrics.entities.pull_request:Extracting PR #114                     \n",
      "INFO:srcopsmetrics.entities.pull_request:Extracting PR #112                     \n",
      "INFO:srcopsmetrics.entities.pull_request:Extracting PR #108                     \n",
      "INFO:srcopsmetrics.entities.pull_request:Extracting PR #107                     \n",
      "INFO:srcopsmetrics.entities.pull_request:Extracting PR #104                     \n",
      "INFO:srcopsmetrics.entities.pull_request:Extracting PR #103                     \n",
      "INFO:srcopsmetrics.entities.pull_request:Extracting PR #101                     \n",
      "INFO:srcopsmetrics.entities.pull_request:Extracting PR #98                      \n",
      "INFO:srcopsmetrics.entities.pull_request:Extracting PR #89                      \n",
      "INFO:srcopsmetrics.entities.pull_request:Extracting PR #86                      \n",
      "INFO:srcopsmetrics.entities.pull_request:Extracting PR #85                      \n",
      "INFO:srcopsmetrics.entities.pull_request:Extracting PR #83                      \n",
      "INFO:srcopsmetrics.entities.pull_request:Extracting PR #82                      \n",
      "INFO:srcopsmetrics.entities.pull_request:Extracting PR #81                      \n",
      "INFO:srcopsmetrics.entities.pull_request:Extracting PR #77                      \n",
      "INFO:srcopsmetrics.entities.pull_request:Extracting PR #76                      \n",
      "INFO:srcopsmetrics.entities.pull_request:Extracting PR #75                      \n",
      "INFO:srcopsmetrics.entities.pull_request:Extracting PR #74                      \n",
      "INFO:srcopsmetrics.entities.pull_request:Extracting PR #73                      \n",
      "INFO:srcopsmetrics.entities.pull_request:Extracting PR #71                      \n",
      "INFO:srcopsmetrics.entities.pull_request:Extracting PR #70                      \n",
      "INFO:srcopsmetrics.entities.pull_request:Extracting PR #67                      \n",
      "INFO:srcopsmetrics.entities.pull_request:Extracting PR #66                      \n",
      "INFO:srcopsmetrics.entities.pull_request:Extracting PR #65                      \n",
      "INFO:srcopsmetrics.entities.pull_request:Extracting PR #64                      \n",
      "INFO:srcopsmetrics.entities.pull_request:Extracting PR #63                      \n",
      "INFO:srcopsmetrics.entities.pull_request:Extracting PR #62                      \n",
      "INFO:srcopsmetrics.entities.pull_request:Extracting PR #55                      \n",
      "INFO:srcopsmetrics.entities.pull_request:Extracting PR #53                      \n",
      "INFO:srcopsmetrics.entities.pull_request:Extracting PR #50                      \n",
      "INFO:srcopsmetrics.entities.pull_request:Extracting PR #47                      \n",
      "INFO:srcopsmetrics.entities.pull_request:Extracting PR #46                      \n",
      "INFO:srcopsmetrics.entities.pull_request:Extracting PR #42                      \n",
      "INFO:srcopsmetrics.entities.pull_request:Extracting PR #41                      \n",
      "INFO:srcopsmetrics.entities.pull_request:Extracting PR #37                      \n",
      "INFO:srcopsmetrics.entities.pull_request:Extracting PR #36                      \n",
      "INFO:srcopsmetrics.entities.pull_request:Extracting PR #35                      \n",
      "INFO:srcopsmetrics.entities.pull_request:Extracting PR #34                      \n",
      "INFO:srcopsmetrics.entities.pull_request:Extracting PR #33                      \n",
      "INFO:srcopsmetrics.entities.pull_request:Extracting PR #31                      \n",
      "INFO:srcopsmetrics.entities.pull_request:Extracting PR #30                      \n",
      "INFO:srcopsmetrics.entities.pull_request:Extracting PR #27                      \n",
      "INFO:srcopsmetrics.entities.pull_request:Extracting PR #21                      \n",
      "INFO:srcopsmetrics.entities.pull_request:Extracting PR #16                      \n",
      "INFO:srcopsmetrics.entities.pull_request:Extracting PR #15                      \n",
      "INFO:srcopsmetrics.entities.pull_request:Extracting PR #2                       \n",
      "INFO:srcopsmetrics.entities.pull_request:Extracting PR #1                       \n",
      "100%|██████████████████████| 56/56 [00:04<00:00, 13.39it/s, RATE remaining=4909]\n",
      "INFO:srcopsmetrics.entities.interface:Nothing to store.\n",
      "INFO:srcopsmetrics.entities.interface:\n",
      "\n",
      "INFO:srcopsmetrics.bot_knowledge:\n",
      "\n"
     ]
    }
   ],
   "source": [
    "# Gather the data\n",
    "!python -m srcopsmetrics.cli -clr $repo_slug -e Issue,PullRequest"
   ]
  },
  {
   "cell_type": "markdown",
   "id": "cc2542f1-be2a-46ee-8448-005eb826ba44",
   "metadata": {},
   "source": [
    "## Issue Metrics\n",
    "\n",
    "Now, lets fetch the issues for the repository and derive some metrics."
   ]
  },
  {
   "cell_type": "code",
   "execution_count": 6,
   "id": "9f01d6a8-5925-466a-a01f-ae47a334f975",
   "metadata": {},
   "outputs": [
    {
     "ename": "KeyboardInterrupt",
     "evalue": "",
     "output_type": "error",
     "traceback": [
      "\u001b[0;31m---------------------------------------------------------------------------\u001b[0m",
      "\u001b[0;31mKeyboardInterrupt\u001b[0m                         Traceback (most recent call last)",
      "\u001b[0;32m/tmp/ipykernel_2370/4082701013.py\u001b[0m in \u001b[0;36m<module>\u001b[0;34m\u001b[0m\n\u001b[0;32m----> 1\u001b[0;31m \u001b[0missue\u001b[0m \u001b[0;34m=\u001b[0m \u001b[0mIssue\u001b[0m\u001b[0;34m(\u001b[0m\u001b[0mrepo_slug\u001b[0m\u001b[0;34m)\u001b[0m\u001b[0;34m\u001b[0m\u001b[0;34m\u001b[0m\u001b[0m\n\u001b[0m\u001b[1;32m      2\u001b[0m \u001b[0missue_df\u001b[0m \u001b[0;34m=\u001b[0m \u001b[0missue\u001b[0m\u001b[0;34m.\u001b[0m\u001b[0mload_previous_knowledge\u001b[0m\u001b[0;34m(\u001b[0m\u001b[0mis_local\u001b[0m\u001b[0;34m=\u001b[0m\u001b[0;32mTrue\u001b[0m\u001b[0;34m)\u001b[0m\u001b[0;34m\u001b[0m\u001b[0;34m\u001b[0m\u001b[0m\n\u001b[1;32m      3\u001b[0m \u001b[0missue_df\u001b[0m\u001b[0;34m.\u001b[0m\u001b[0mhead\u001b[0m\u001b[0;34m(\u001b[0m\u001b[0;34m)\u001b[0m\u001b[0;34m\u001b[0m\u001b[0;34m\u001b[0m\u001b[0m\n",
      "\u001b[0;32m/opt/app-root/lib64/python3.8/site-packages/srcopsmetrics/entities/interface.py\u001b[0m in \u001b[0;36m__init__\u001b[0;34m(self, repository_name, repository)\u001b[0m\n\u001b[1;32m     57\u001b[0m         \u001b[0mself\u001b[0m\u001b[0;34m.\u001b[0m\u001b[0mrepository\u001b[0m \u001b[0;34m=\u001b[0m \u001b[0mrepository\u001b[0m\u001b[0;34m\u001b[0m\u001b[0;34m\u001b[0m\u001b[0m\n\u001b[1;32m     58\u001b[0m         \u001b[0;32mif\u001b[0m \u001b[0;32mnot\u001b[0m \u001b[0mrepository\u001b[0m\u001b[0;34m:\u001b[0m\u001b[0;34m\u001b[0m\u001b[0;34m\u001b[0m\u001b[0m\n\u001b[0;32m---> 59\u001b[0;31m             \u001b[0mself\u001b[0m\u001b[0;34m.\u001b[0m\u001b[0mrepository\u001b[0m \u001b[0;34m=\u001b[0m \u001b[0mgithub_handling\u001b[0m\u001b[0;34m.\u001b[0m\u001b[0mconnect_to_source\u001b[0m\u001b[0;34m(\u001b[0m\u001b[0mrepository_name\u001b[0m\u001b[0;34m)\u001b[0m\u001b[0;34m\u001b[0m\u001b[0;34m\u001b[0m\u001b[0m\n\u001b[0m\u001b[1;32m     60\u001b[0m \u001b[0;34m\u001b[0m\u001b[0m\n\u001b[1;32m     61\u001b[0m     \u001b[0;34m@\u001b[0m\u001b[0mclassmethod\u001b[0m\u001b[0;34m\u001b[0m\u001b[0;34m\u001b[0m\u001b[0m\n",
      "\u001b[0;32m/opt/app-root/lib64/python3.8/site-packages/srcopsmetrics/github_handling.py\u001b[0m in \u001b[0;36m_wrapper\u001b[0;34m(*args, **kwargs)\u001b[0m\n\u001b[1;32m     89\u001b[0m     \u001b[0;32mdef\u001b[0m \u001b[0m_wrapper\u001b[0m\u001b[0;34m(\u001b[0m\u001b[0;34m*\u001b[0m\u001b[0margs\u001b[0m\u001b[0;34m,\u001b[0m \u001b[0;34m**\u001b[0m\u001b[0mkwargs\u001b[0m\u001b[0;34m)\u001b[0m\u001b[0;34m:\u001b[0m\u001b[0;34m\u001b[0m\u001b[0;34m\u001b[0m\u001b[0m\n\u001b[1;32m     90\u001b[0m         \u001b[0mhandler\u001b[0m \u001b[0;34m=\u001b[0m \u001b[0mGithubHandler\u001b[0m\u001b[0;34m(\u001b[0m\u001b[0;34m)\u001b[0m\u001b[0;34m\u001b[0m\u001b[0;34m\u001b[0m\u001b[0m\n\u001b[0;32m---> 91\u001b[0;31m         \u001b[0mhandler\u001b[0m\u001b[0;34m.\u001b[0m\u001b[0mcheck_and_wait_for_api\u001b[0m\u001b[0;34m(\u001b[0m\u001b[0;34m)\u001b[0m\u001b[0;34m\u001b[0m\u001b[0;34m\u001b[0m\u001b[0m\n\u001b[0m\u001b[1;32m     92\u001b[0m         \u001b[0;32mreturn\u001b[0m \u001b[0moriginal_funcion\u001b[0m\u001b[0;34m(\u001b[0m\u001b[0;34m*\u001b[0m\u001b[0margs\u001b[0m\u001b[0;34m,\u001b[0m \u001b[0;34m**\u001b[0m\u001b[0mkwargs\u001b[0m\u001b[0;34m)\u001b[0m\u001b[0;34m\u001b[0m\u001b[0;34m\u001b[0m\u001b[0m\n\u001b[1;32m     93\u001b[0m \u001b[0;34m\u001b[0m\u001b[0m\n",
      "\u001b[0;32m/opt/app-root/lib64/python3.8/site-packages/srcopsmetrics/github_handling.py\u001b[0m in \u001b[0;36mcheck_and_wait_for_api\u001b[0;34m(self)\u001b[0m\n\u001b[1;32m     80\u001b[0m         \u001b[0;34m\"\"\"Check if GH is exhausted, if so then wait until it is regained.\"\"\"\u001b[0m\u001b[0;34m\u001b[0m\u001b[0;34m\u001b[0m\u001b[0m\n\u001b[1;32m     81\u001b[0m         \u001b[0;32mif\u001b[0m \u001b[0mself\u001b[0m\u001b[0;34m.\u001b[0m\u001b[0m_is_api_exhausted\u001b[0m\u001b[0;34m(\u001b[0m\u001b[0;34m)\u001b[0m\u001b[0;34m:\u001b[0m\u001b[0;34m\u001b[0m\u001b[0;34m\u001b[0m\u001b[0m\n\u001b[0;32m---> 82\u001b[0;31m             \u001b[0mself\u001b[0m\u001b[0;34m.\u001b[0m\u001b[0m_wait_until_api_reset\u001b[0m\u001b[0;34m(\u001b[0m\u001b[0;34m)\u001b[0m\u001b[0;34m\u001b[0m\u001b[0;34m\u001b[0m\u001b[0m\n\u001b[0m\u001b[1;32m     83\u001b[0m \u001b[0;34m\u001b[0m\u001b[0m\n\u001b[1;32m     84\u001b[0m \u001b[0;34m\u001b[0m\u001b[0m\n",
      "\u001b[0;32m/opt/app-root/lib64/python3.8/site-packages/srcopsmetrics/github_handling.py\u001b[0m in \u001b[0;36m_wait_until_api_reset\u001b[0;34m(self)\u001b[0m\n\u001b[1;32m     75\u001b[0m \u001b[0;34m\u001b[0m\u001b[0m\n\u001b[1;32m     76\u001b[0m         \u001b[0m_LOGGER\u001b[0m\u001b[0;34m.\u001b[0m\u001b[0minfo\u001b[0m\u001b[0;34m(\u001b[0m\u001b[0;34m\"API rate limit REACHED, will now wait for %d minutes\"\u001b[0m \u001b[0;34m%\u001b[0m \u001b[0;34m(\u001b[0m\u001b[0mwait_time\u001b[0m \u001b[0;34m//\u001b[0m \u001b[0;36m60\u001b[0m\u001b[0;34m)\u001b[0m\u001b[0;34m)\u001b[0m\u001b[0;34m\u001b[0m\u001b[0;34m\u001b[0m\u001b[0m\n\u001b[0;32m---> 77\u001b[0;31m         \u001b[0mtime\u001b[0m\u001b[0;34m.\u001b[0m\u001b[0msleep\u001b[0m\u001b[0;34m(\u001b[0m\u001b[0mwait_time\u001b[0m\u001b[0;34m)\u001b[0m\u001b[0;34m\u001b[0m\u001b[0;34m\u001b[0m\u001b[0m\n\u001b[0m\u001b[1;32m     78\u001b[0m \u001b[0;34m\u001b[0m\u001b[0m\n\u001b[1;32m     79\u001b[0m     \u001b[0;32mdef\u001b[0m \u001b[0mcheck_and_wait_for_api\u001b[0m\u001b[0;34m(\u001b[0m\u001b[0mself\u001b[0m\u001b[0;34m)\u001b[0m\u001b[0;34m:\u001b[0m\u001b[0;34m\u001b[0m\u001b[0;34m\u001b[0m\u001b[0m\n",
      "\u001b[0;31mKeyboardInterrupt\u001b[0m: "
     ]
    }
   ],
   "source": [
    "issue = Issue(repo_slug)\n",
    "issue_df = issue.load_previous_knowledge(is_local=True)\n",
    "issue_df.head()"
   ]
  },
  {
   "cell_type": "code",
   "execution_count": null,
   "id": "ecc6718e-9b65-4246-a89d-5ea1caf52f47",
   "metadata": {},
   "outputs": [],
   "source": [
    "issues_df = issue_df.reset_index()"
   ]
  },
  {
   "cell_type": "code",
   "execution_count": null,
   "id": "74f8831a-fc80-4fb7-b20d-d3ef158c308a",
   "metadata": {},
   "outputs": [],
   "source": [
    "issues_df.head()"
   ]
  },
  {
   "cell_type": "code",
   "execution_count": null,
   "id": "1d6ee917-2aae-4838-ba43-89c9c5957886",
   "metadata": {
    "tags": []
   },
   "outputs": [],
   "source": [
    "issue_cols_to_drop = [\"labels\", \"interactions\"]\n",
    "issue_df = issues_df.drop(columns=issue_cols_to_drop)\n",
    "\n",
    "issue_df[\"org\"] = ORG\n",
    "issue_df[\"repo\"] = REPO\n",
    "\n",
    "issue_df.head()"
   ]
  },
  {
   "cell_type": "markdown",
   "id": "c5490090-eae1-419f-a31e-bef1193065be",
   "metadata": {},
   "source": [
    "## todo: fix s3 communication"
   ]
  },
  {
   "cell_type": "code",
   "execution_count": null,
   "id": "ce68b890-ea89-40df-bea0-c23dfb08b154",
   "metadata": {
    "tags": []
   },
   "outputs": [],
   "source": [
    "s3c.upload_df_to_s3(\n",
    "    df=issues_df,\n",
    "    s3_prefix=\"open-services-group/metrics/github/issues\",\n",
    "    s3_key=f\"{ORG}-{REPO}.parquet\",\n",
    ")"
   ]
  },
  {
   "cell_type": "markdown",
   "id": "6f7ec752-c048-4bbf-b92f-f0ab2445520d",
   "metadata": {},
   "source": [
    "## PR Metrics\n",
    "\n",
    "Now, lets fetch the PRs for the repository and derive some metrics."
   ]
  },
  {
   "cell_type": "code",
   "execution_count": null,
   "id": "4047933a-e7fa-4424-aa9a-98efc072202a",
   "metadata": {},
   "outputs": [],
   "source": [
    "pr = PullRequest(repo_slug)\n",
    "pr_df = pr.load_previous_knowledge(is_local=True)\n",
    "pr_df.head()"
   ]
  },
  {
   "cell_type": "code",
   "execution_count": null,
   "id": "2f1967c8-d176-4082-9f03-846727d8b987",
   "metadata": {},
   "outputs": [],
   "source": [
    "pr_df = pr_df.reset_index()"
   ]
  },
  {
   "cell_type": "code",
   "execution_count": null,
   "id": "e50476e0-8334-4619-843a-e4d23bb8f125",
   "metadata": {},
   "outputs": [],
   "source": [
    "pr_df.head()"
   ]
  },
  {
   "cell_type": "code",
   "execution_count": null,
   "id": "42644233-e829-4931-9740-31c77b265a2b",
   "metadata": {},
   "outputs": [],
   "source": [
    "pr_cols_to_drop = [\"interactions\", \"reviews\", \"labels\", \"commits\", \"changed_files\"]\n",
    "prs_df = pr_df.drop(columns=pr_cols_to_drop)\n",
    "\n",
    "prs_df[\"org\"] = ORG\n",
    "prs_df[\"repo\"] = REPO\n",
    "\n",
    "prs_df.head()"
   ]
  },
  {
   "cell_type": "code",
   "execution_count": null,
   "id": "de482101-e8b5-4603-ac3a-2ccad2d13be9",
   "metadata": {},
   "outputs": [],
   "source": [
    "s3c.upload_df_to_s3(\n",
    "    df=prs_df,\n",
    "    s3_prefix=\"open-services-group/metrics/github/prs\",\n",
    "    s3_key=f\"{ORG}-{REPO}.parquet\",\n",
    ")"
   ]
  },
  {
   "cell_type": "markdown",
   "id": "6fd52036-3802-4c82-8d7c-6317085fa22e",
   "metadata": {},
   "source": [
    "## Create Trino Tables"
   ]
  },
  {
   "cell_type": "code",
   "execution_count": null,
   "id": "29c3612d-ebad-4949-9754-ed2ec58686d8",
   "metadata": {},
   "outputs": [],
   "source": [
    "_p2smap = {\n",
    "    \"object\": \"varchar\",\n",
    "    \"int64\": \"bigint\",\n",
    "    \"float64\": \"double\",\n",
    "    \"datetime64[ns]\": \"timestamp\",\n",
    "    \"bool\": \"boolean\",\n",
    "}\n",
    "\n",
    "\n",
    "def pandas_type_to_sql(pt):\n",
    "    st = _p2smap.get(pt)\n",
    "    if st is not None:\n",
    "        return st\n",
    "    raise ValueError(\"unexpected pandas column type '{pt}'\".format(pt=pt))\n",
    "\n",
    "\n",
    "# add ability to specify optional dict for specific fields?\n",
    "# if column name is present, use specified value?\n",
    "def generate_table_schema_pairs(df):\n",
    "    ptypes = [str(e) for e in df.dtypes.to_list()]\n",
    "    stypes = [pandas_type_to_sql(e) for e in ptypes]\n",
    "    pz = list(zip(df.columns.to_list(), stypes))\n",
    "    return \",\\n\".join([\"    {n} {t}\".format(n=e[0], t=e[1]) for e in pz])"
   ]
  },
  {
   "cell_type": "code",
   "execution_count": null,
   "id": "44de78f7-ec68-4c5c-b7fe-d60f5d264a9d",
   "metadata": {},
   "outputs": [],
   "source": [
    "# Create a Trino client\n",
    "conn = trino.dbapi.connect(\n",
    "    auth=trino.auth.BasicAuthentication(\n",
    "        os.environ[\"TRINO_USER\"], os.environ[\"TRINO_PASSWD\"]\n",
    "    ),\n",
    "    host=os.environ[\"TRINO_HOST\"],\n",
    "    port=int(os.environ[\"TRINO_PORT\"]),\n",
    "    http_scheme=\"https\",\n",
    "    verify=True,\n",
    ")\n",
    "cur = conn.cursor()"
   ]
  },
  {
   "cell_type": "code",
   "execution_count": null,
   "id": "211c81ec-23f0-4561-bbcd-1ff86e2ca63d",
   "metadata": {},
   "outputs": [],
   "source": [
    "cur.execute(\"show catalogs\")\n",
    "cur.fetchall()[1]"
   ]
  },
  {
   "cell_type": "code",
   "execution_count": null,
   "id": "c01cb486-0363-4b48-a9d3-df585fa1b4f0",
   "metadata": {
    "tags": []
   },
   "outputs": [],
   "source": [
    "# bucket = s3c.s3_resource.Bucket(os.environ[\"S3_BUCKET\"])\n",
    "# for i in bucket.objects.all():\n",
    "#     print(i)"
   ]
  },
  {
   "cell_type": "code",
   "execution_count": null,
   "id": "78d2e492-b8c5-45f3-bea3-59eddc2bf174",
   "metadata": {},
   "outputs": [],
   "source": [
    "issue_schema = generate_table_schema_pairs(issue_df)\n",
    "\n",
    "tabledef = \"\"\"create table if not exists data_science_general.default.issues(\n",
    "{schema}\n",
    ") with (\n",
    "    format = 'parquet',\n",
    "    external_location = 's3a://{s3_bucket}/open-services-group/metrics/github/issues'\n",
    ")\"\"\".format(\n",
    "    schema=issue_schema,\n",
    "    s3_bucket=os.environ[\"S3_BUCKET\"],\n",
    ")\n",
    "\n",
    "cur.execute(tabledef)\n",
    "cur.fetchall()"
   ]
  },
  {
   "cell_type": "markdown",
   "id": "68ce9b6c-c43b-4bd1-a205-a759f1eab604",
   "metadata": {},
   "source": [
    "### Number of issues created over time"
   ]
  },
  {
   "cell_type": "code",
   "execution_count": null,
   "id": "e753ad5f-9dab-4290-bb93-d585aea9763c",
   "metadata": {},
   "outputs": [],
   "source": [
    "# Let's find the number of issues created daily\n",
    "issues_created_daily = (\n",
    "    issues_df[\"created_at\"].groupby(issues_df.created_at.dt.to_period(\"D\")).agg(\"count\")\n",
    ")"
   ]
  },
  {
   "cell_type": "code",
   "execution_count": null,
   "id": "01ed36a4-a970-4e9d-953a-49f31303342b",
   "metadata": {},
   "outputs": [],
   "source": [
    "issues_created_daily.head()"
   ]
  },
  {
   "cell_type": "code",
   "execution_count": null,
   "id": "9995a252-1533-42c3-a402-3ff06da67ecb",
   "metadata": {},
   "outputs": [],
   "source": [
    "issues_created_daily.plot.bar()\n",
    "\n",
    "plt.xlabel(\"Days\")\n",
    "locs, labels = plt.xticks()\n",
    "N = 10\n",
    "plt.xticks(locs[::N], issues_created_daily.index[::N].strftime(\"%b %Y\"))\n",
    "plt.xticks(rotation=45)\n",
    "plt.ylabel(\"# Issues\")\n",
    "plt.title(\"# Daily Issues Created\")\n",
    "plt.show()"
   ]
  },
  {
   "cell_type": "markdown",
   "id": "a5810fce-3afc-4c36-b8ec-acb3cac1030c",
   "metadata": {},
   "source": [
    "### Number of open issues"
   ]
  },
  {
   "cell_type": "code",
   "execution_count": null,
   "id": "b1344d6e-1f93-4124-b238-f4f6949358f4",
   "metadata": {},
   "outputs": [],
   "source": [
    "num_open_issues = issues_df[\"closed_at\"].isna().sum()\n",
    "num_open_issues"
   ]
  },
  {
   "cell_type": "markdown",
   "id": "d002b54b-c3a3-4780-bec5-99bd2848e039",
   "metadata": {},
   "source": [
    "### Number of closed issues"
   ]
  },
  {
   "cell_type": "code",
   "execution_count": null,
   "id": "8bc111db-5204-41fe-be85-30e01656f9f8",
   "metadata": {},
   "outputs": [],
   "source": [
    "num_close_issues = issues_df[\"closed_at\"].notnull().sum()\n",
    "num_close_issues"
   ]
  },
  {
   "cell_type": "markdown",
   "id": "92385e23-ceb7-4bdf-8ca3-ee56d3693010",
   "metadata": {},
   "source": [
    "### Mean time to close issues"
   ]
  },
  {
   "cell_type": "code",
   "execution_count": null,
   "id": "0f4fbb34-48bd-46c6-bd3e-a26fd7e6c33b",
   "metadata": {},
   "outputs": [],
   "source": [
    "# Calculate the time taken to close an issue\n",
    "issues_df[\"time_to_close\"] = issues_df.closed_at - issues_df.created_at\n",
    "issues_df.head()"
   ]
  },
  {
   "cell_type": "markdown",
   "id": "6b213552-d35d-48e8-8cf1-a5a2f2211468",
   "metadata": {},
   "source": [
    "Now let's find out the median time taken to close issues grouped by month."
   ]
  },
  {
   "cell_type": "code",
   "execution_count": null,
   "id": "153adda7-f42e-4c44-a07d-94a5aeaaedf8",
   "metadata": {},
   "outputs": [],
   "source": [
    "issues_closed_monthly = (\n",
    "    issues_df[\"time_to_close\"]\n",
    "    .groupby(issues_df.created_at.dt.to_period(\"M\"))\n",
    "    .agg(\"median\")\n",
    ")"
   ]
  },
  {
   "cell_type": "code",
   "execution_count": null,
   "id": "4c66ca01-da64-4c68-bcff-8203af8e3f78",
   "metadata": {},
   "outputs": [],
   "source": [
    "issues_closed_monthly.head()"
   ]
  },
  {
   "cell_type": "markdown",
   "id": "948a8dec-95d1-4d59-a29b-111efa4ad3f2",
   "metadata": {},
   "source": [
    "We can visualize the trend in median time to close issues by month. However, in order to best capture all the median values including the outliers we can normalize the data by taking the log of the values before plotting. We should also consider the level of granularity we would like to capture and visualize the median time in i.e. days vs hours vs minutes vs seconds.\n",
    "\n",
    "Let us first consider the different levels of granularity for the median time to close issues."
   ]
  },
  {
   "cell_type": "code",
   "execution_count": null,
   "id": "29577657-c217-47de-bc39-191cd44e2921",
   "metadata": {},
   "outputs": [],
   "source": [
    "# days\n",
    "issues_closed_monthly_days = issues_closed_monthly.astype(\"timedelta64[D]\")\n",
    "# hours\n",
    "issues_closed_monthly_hours = issues_closed_monthly.astype(\"timedelta64[h]\")\n",
    "# minutes\n",
    "issues_closed_monthly_minutes = issues_closed_monthly.astype(\"timedelta64[m]\")\n",
    "# seconds\n",
    "issues_closed_monthly_seconds = issues_closed_monthly.astype(\"timedelta64[s]\")"
   ]
  },
  {
   "cell_type": "markdown",
   "id": "573f7822-6e25-4586-9716-14b96033f234",
   "metadata": {},
   "source": [
    "We will now consider the granularity level to be \"days\" and plot the median time to close issues grouped by months."
   ]
  },
  {
   "cell_type": "code",
   "execution_count": null,
   "id": "fe4bdf60-4200-4980-9f1a-f3621ed5da6b",
   "metadata": {},
   "outputs": [],
   "source": [
    "issues_closed_monthly_days.plot()\n",
    "plt.xlabel(\"Month\")\n",
    "plt.ylabel(\"Median time to close (days)\")\n",
    "plt.title(\"Median Time to Close Issues (Monthly)\")\n",
    "plt.show()"
   ]
  },
  {
   "cell_type": "markdown",
   "id": "e4abc5a0-6288-4b8b-b07a-f85e82ec331e",
   "metadata": {},
   "source": [
    "### Number of PRs created over time"
   ]
  },
  {
   "cell_type": "code",
   "execution_count": null,
   "id": "345d29c2-4278-4d76-85a4-67857b994e54",
   "metadata": {},
   "outputs": [],
   "source": [
    "# Let's find the number of PRs created daily\n",
    "pr_created_daily = (\n",
    "    pr_df[\"created_at\"].groupby(pr_df.created_at.dt.to_period(\"D\")).agg(\"count\")\n",
    ")"
   ]
  },
  {
   "cell_type": "code",
   "execution_count": null,
   "id": "c7082334-6fd6-479c-8d8c-8505c45a4bcd",
   "metadata": {},
   "outputs": [],
   "source": [
    "pr_created_daily.head()"
   ]
  },
  {
   "cell_type": "code",
   "execution_count": null,
   "id": "1c71f0ba-2918-4e2f-8267-001acee372de",
   "metadata": {},
   "outputs": [],
   "source": [
    "pr_created_daily.plot.bar()\n",
    "\n",
    "plt.xlabel(\"Days\")\n",
    "locs, labels = plt.xticks()\n",
    "N = 10\n",
    "plt.xticks(locs[::N], pr_created_daily.index[::N].strftime(\"%b %Y\"))\n",
    "plt.xticks(rotation=45)\n",
    "plt.ylabel(\"# PRs\")\n",
    "plt.title(\"# Daily PRs Created\")\n",
    "plt.show()"
   ]
  },
  {
   "cell_type": "markdown",
   "id": "438cb21e-09f9-4acf-b9fd-fdde5aba83aa",
   "metadata": {},
   "source": [
    "### Number of open PRs"
   ]
  },
  {
   "cell_type": "code",
   "execution_count": null,
   "id": "9f7cd17a-687c-4a03-a87c-ffe240f64b7e",
   "metadata": {},
   "outputs": [],
   "source": [
    "num_open_prs = pr_df[\"closed_at\"].isna().sum()\n",
    "num_open_prs"
   ]
  },
  {
   "cell_type": "markdown",
   "id": "8b2ff585-32b4-494c-b0c5-34aa4d272c3b",
   "metadata": {},
   "source": [
    "### Number of closed PRs"
   ]
  },
  {
   "cell_type": "code",
   "execution_count": null,
   "id": "23791b02-babc-4cfb-9356-066e6957a9f1",
   "metadata": {},
   "outputs": [],
   "source": [
    "num_close_prs = pr_df[\"closed_at\"].notnull().sum()\n",
    "num_close_prs"
   ]
  },
  {
   "cell_type": "markdown",
   "id": "29ef9b90-f12a-41bc-a553-30032e08cf4e",
   "metadata": {},
   "source": [
    "### Ratio of opened to closed PRs over the last 90 days (quarter) "
   ]
  },
  {
   "cell_type": "code",
   "execution_count": null,
   "id": "d25a8a9d-d34d-4125-b4c1-e11d552a6e22",
   "metadata": {},
   "outputs": [],
   "source": [
    "num_open_prs_90d = len(\n",
    "    pr_df[pr_df[\"created_at\"] > (dt.datetime.now() - dt.timedelta(days=90))]\n",
    ")\n",
    "num_closed_prs_90d = len(\n",
    "    pr_df[pr_df[\"closed_at\"] > (dt.datetime.now() - dt.timedelta(days=90))]\n",
    ")\n",
    "print(\"Number of open PRs:\", num_open_prs_90d)\n",
    "print(\"Number of closed PRs:\", num_closed_prs_90d)\n",
    "\n",
    "ratio = num_open_prs_90d / num_closed_prs_90d\n",
    "print(\"Ratio of open to closed PRs over last 90 days:\", ratio)"
   ]
  },
  {
   "cell_type": "markdown",
   "id": "233eb1c6-e4ce-4a21-bdc7-537bde0ca8d9",
   "metadata": {},
   "source": [
    "A ratio of 1 indicates that we have managed to close and review all the PRs that were created in the past 90 days. Hence, we should always strive for a ratio of 1."
   ]
  },
  {
   "cell_type": "markdown",
   "id": "34b31937-adbc-438f-bb13-fe9594182618",
   "metadata": {},
   "source": [
    "### Mean time to close PRs"
   ]
  },
  {
   "cell_type": "code",
   "execution_count": null,
   "id": "dd5fbf80-3fe4-4a5f-92a8-0f8c7cc4d271",
   "metadata": {},
   "outputs": [],
   "source": [
    "# Calculate the time taken to close a PR\n",
    "pr_df[\"time_to_close\"] = pr_df.closed_at - pr_df.created_at\n",
    "pr_df.head()"
   ]
  },
  {
   "cell_type": "markdown",
   "id": "00a2bd93-ffc6-495a-9213-f94826c85407",
   "metadata": {},
   "source": [
    "Now let's find out the median time taken to close PRs grouped by month."
   ]
  },
  {
   "cell_type": "code",
   "execution_count": null,
   "id": "a7811e77-447c-4139-b535-aefffe103005",
   "metadata": {},
   "outputs": [],
   "source": [
    "prs_closed_monthly = (\n",
    "    pr_df[\"time_to_close\"].groupby(pr_df.created_at.dt.to_period(\"M\")).agg(\"median\")\n",
    ")\n",
    "prs_closed_monthly"
   ]
  },
  {
   "cell_type": "markdown",
   "id": "3b65bfe7-4f2f-4045-b4ab-30f157d660f5",
   "metadata": {},
   "source": [
    "We can visualize the trend in median time to close PRs by month. However, in order to best capture all the median values including the outliers we can normalize the data by taking the log of the values before plotting. We should also consider the level of granularity we would like to capture and visualize the median time in i.e. days vs hours vs minutes vs seconds.\n",
    "\n",
    "Let us first consider the different levels of granularity for the median time to close PRs."
   ]
  },
  {
   "cell_type": "code",
   "execution_count": null,
   "id": "b3bd9157-ce9d-4405-bd65-1d3147134aaf",
   "metadata": {},
   "outputs": [],
   "source": [
    "# days\n",
    "prs_closed_monthly_days = prs_closed_monthly.astype(\"timedelta64[D]\")\n",
    "# hours\n",
    "prs_closed_monthly_hours = prs_closed_monthly.astype(\"timedelta64[h]\")\n",
    "# minutes\n",
    "prs_closed_monthly_minutes = prs_closed_monthly.astype(\"timedelta64[m]\")\n",
    "# seconds\n",
    "prs_closed_monthly_seconds = prs_closed_monthly.astype(\"timedelta64[s]\")"
   ]
  },
  {
   "cell_type": "markdown",
   "id": "e3a2243f-6e81-4f8a-82d7-424cb4fd5e5e",
   "metadata": {},
   "source": [
    "We can now proceed to normalizing the values"
   ]
  },
  {
   "cell_type": "code",
   "execution_count": null,
   "id": "de737c10-6ea0-4520-8ec9-5563ed3358f1",
   "metadata": {},
   "outputs": [],
   "source": [
    "prs_closed_monthly_days_norm = np.log(prs_closed_monthly_days)\n",
    "prs_closed_monthly_hours_norm = np.log(prs_closed_monthly_hours)\n",
    "prs_closed_monthly_minutes_norm = np.log(prs_closed_monthly_minutes)\n",
    "prs_closed_monthly_seconds_norm = np.log(prs_closed_monthly_seconds)"
   ]
  },
  {
   "cell_type": "code",
   "execution_count": null,
   "id": "ea274678-54d7-486f-ad2c-9c072ab37578",
   "metadata": {},
   "outputs": [],
   "source": [
    "prs_closed_monthly_hours_norm"
   ]
  },
  {
   "cell_type": "markdown",
   "id": "5376e415-7f7a-4e18-9049-a569615394f0",
   "metadata": {},
   "source": [
    "We will now consider the granularity level to be \"hours\" and plot the median time to close PRs grouped by months."
   ]
  },
  {
   "cell_type": "code",
   "execution_count": null,
   "id": "8bb8e6ee-7718-4456-bf3f-341eeee38914",
   "metadata": {},
   "outputs": [],
   "source": [
    "prs_closed_monthly_hours_norm.plot()\n",
    "plt.xlabel(\"Month\")\n",
    "plt.ylabel(\"Median time to close (hours)\")\n",
    "plt.title(\"Median Time to Close PRs (hours)\")\n",
    "plt.show()"
   ]
  }
 ],
 "metadata": {
  "kernelspec": {
   "display_name": "Python 3 (ipykernel)",
   "language": "python",
   "name": "python3"
  },
  "language_info": {
   "codemirror_mode": {
    "name": "ipython",
    "version": 3
   },
   "file_extension": ".py",
   "mimetype": "text/x-python",
   "name": "python",
   "nbconvert_exporter": "python",
   "pygments_lexer": "ipython3",
   "version": "3.8.6"
  }
 },
 "nbformat": 4,
 "nbformat_minor": 5
}
